{
  "cells": [
    {
      "cell_type": "markdown",
      "metadata": {
        "id": "6EmfSWKQuqwz"
      },
      "source": [
        "# REGular EXpression - INTRO TO REGEX"
      ]
    },
    {
      "cell_type": "code",
      "execution_count": 5,
      "metadata": {
        "id": "4aY1U7Piuqw1"
      },
      "outputs": [],
      "source": [
        "# Import the library!\n",
        "import re"
      ]
    },
    {
      "cell_type": "markdown",
      "metadata": {
        "id": "mPrFTVivuqw2"
      },
      "source": [
        "1. `re.search`: Finds the first match and returns it;\n",
        "2. `re.findall`: Returns a list with all matches;\n",
        "4. `re.sub`: Replaces a pattern with a string.\n",
        "\n",
        "Visualizando REGEXs: https://regexper.com/"
      ]
    },
    {
      "cell_type": "markdown",
      "metadata": {
        "id": "kGP-H1Wguqw2"
      },
      "source": [
        "## `findall()` Function"
      ]
    },
    {
      "cell_type": "code",
      "execution_count": 7,
      "metadata": {
        "id": "-pXpTQVmuqw2",
        "outputId": "6f258757-0c23-4039-e944-c227a0588500",
        "colab": {
          "base_uri": "https://localhost:8080/"
        }
      },
      "outputs": [
        {
          "output_type": "execute_result",
          "data": {
            "text/plain": [
              "['neighbor', 'neighbor']"
            ]
          },
          "metadata": {},
          "execution_count": 7
        }
      ],
      "source": [
        "text = 'My neighbor, mr. Paw, has 5 dogs and each has 10 neighbors.'\n",
        "pattern = 'neighbor'\n",
        "\n",
        "re.findall(pattern, text)"
      ]
    },
    {
      "cell_type": "code",
      "execution_count": 8,
      "metadata": {
        "id": "BdkkCk1Ouqw2",
        "outputId": "cf0dc2ba-7568-4485-be4d-c1b4866a4efc",
        "colab": {
          "base_uri": "https://localhost:8080/"
        }
      },
      "outputs": [
        {
          "output_type": "execute_result",
          "data": {
            "text/plain": [
              "['nei']"
            ]
          },
          "metadata": {},
          "execution_count": 8
        }
      ],
      "source": [
        "text = 'My neighbor, mr. Dog, has 5 dogs.'\n",
        "pattern = 'nei'\n",
        "\n",
        "re.findall(pattern, text)"
      ]
    },
    {
      "cell_type": "code",
      "execution_count": 21,
      "metadata": {
        "id": "rM6jUouguqw3",
        "outputId": "bf2fceb1-2363-4381-8b09-b506392c6172",
        "colab": {
          "base_uri": "https://localhost:8080/"
        }
      },
      "outputs": [
        {
          "output_type": "execute_result",
          "data": {
            "text/plain": [
              "[]"
            ]
          },
          "metadata": {},
          "execution_count": 21
        }
      ],
      "source": [
        "text = 'My neighbor, mr. Paw, has 5 dogs and each one has 4 paws'\n",
        "pattern_2 = 'NEIGHBOR'\n",
        "\n",
        "re.findall(pattern_2, text)"
      ]
    },
    {
      "cell_type": "code",
      "execution_count": 11,
      "metadata": {
        "id": "cSAwVnU7uqw3",
        "outputId": "4938cb2c-af8c-432f-e89e-8dd4693eed6d",
        "colab": {
          "base_uri": "https://localhost:8080/"
        }
      },
      "outputs": [
        {
          "output_type": "execute_result",
          "data": {
            "text/plain": [
              "['e', 'e', 'e']"
            ]
          },
          "metadata": {},
          "execution_count": 11
        }
      ],
      "source": [
        "text = 'My neighbor, mr. Paw, has 5 dogs and each one has 4 paws'\n",
        "pattern_3 = 'e'\n",
        "\n",
        "re.findall(pattern_3, text)"
      ]
    },
    {
      "cell_type": "markdown",
      "metadata": {
        "id": "2EFEtST9uqw3"
      },
      "source": [
        "### Application I"
      ]
    },
    {
      "cell_type": "code",
      "execution_count": 12,
      "metadata": {
        "id": "DVfqaRw7uqw3"
      },
      "outputs": [],
      "source": [
        "# Extrair todas as colunas da T1\n",
        "lista_colunas = ['T1_id', 'T1_nome', 'T1_id_fatura', 'T1_cd_sku', 'T2_cd_promo', 'T3_qt_vendido', 'T4_vl_total', \n",
        "                 'T5_vl_custo', 'T1_tipo_frete', 'T1_rua', 'T1_num', 'T1_cep', 'T1_cidade', 'T1_uf',\n",
        "                 'T1_vl_frete', 'T2_tp_promo', 'T3_vl_promo', 'T4_vl_sv', 'T5_qt_doado']\n"
      ]
    },
    {
      "cell_type": "code",
      "source": [
        "' '.join(lista_colunas)"
      ],
      "metadata": {
        "id": "wRb7fTNn4NxD",
        "outputId": "5ca07007-b27b-428f-eb55-28d8a7e00fe8",
        "colab": {
          "base_uri": "https://localhost:8080/",
          "height": 75
        }
      },
      "execution_count": 13,
      "outputs": [
        {
          "output_type": "execute_result",
          "data": {
            "text/plain": [
              "'T1_id T1_nome T1_id_fatura T1_cd_sku T2_cd_promo T3_qt_vendido T4_vl_total T5_vl_custo T1_tipo_frete T1_rua T1_num T1_cep T1_cidade T1_uf T1_vl_frete T2_tp_promo T3_vl_promo T4_vl_sv T5_qt_doado'"
            ],
            "application/vnd.google.colaboratory.intrinsic+json": {
              "type": "string"
            }
          },
          "metadata": {},
          "execution_count": 13
        }
      ]
    },
    {
      "cell_type": "code",
      "execution_count": 15,
      "metadata": {
        "id": "2xYGsrBQuqw4",
        "outputId": "8002f39c-0d40-47b4-fe43-3c1e91050c21",
        "colab": {
          "base_uri": "https://localhost:8080/"
        }
      },
      "outputs": [
        {
          "output_type": "execute_result",
          "data": {
            "text/plain": [
              "11"
            ]
          },
          "metadata": {},
          "execution_count": 15
        }
      ],
      "source": [
        "len(re.findall('T1_', ' '.join(lista_colunas)))"
      ]
    },
    {
      "cell_type": "code",
      "source": [
        "lista_colunas"
      ],
      "metadata": {
        "id": "gJf2fvNQ4aV5",
        "outputId": "b926e49c-74e3-494a-d626-637211912d12",
        "colab": {
          "base_uri": "https://localhost:8080/"
        }
      },
      "execution_count": 16,
      "outputs": [
        {
          "output_type": "execute_result",
          "data": {
            "text/plain": [
              "['T1_id',\n",
              " 'T1_nome',\n",
              " 'T1_id_fatura',\n",
              " 'T1_cd_sku',\n",
              " 'T2_cd_promo',\n",
              " 'T3_qt_vendido',\n",
              " 'T4_vl_total',\n",
              " 'T5_vl_custo',\n",
              " 'T1_tipo_frete',\n",
              " 'T1_rua',\n",
              " 'T1_num',\n",
              " 'T1_cep',\n",
              " 'T1_cidade',\n",
              " 'T1_uf',\n",
              " 'T1_vl_frete',\n",
              " 'T2_tp_promo',\n",
              " 'T3_vl_promo',\n",
              " 'T4_vl_sv',\n",
              " 'T5_qt_doado']"
            ]
          },
          "metadata": {},
          "execution_count": 16
        }
      ]
    },
    {
      "cell_type": "code",
      "execution_count": 22,
      "metadata": {
        "id": "2ggwh8a6uqw4",
        "outputId": "169d22ed-c005-4c3b-b0b9-b3eeb0838728",
        "colab": {
          "base_uri": "https://localhost:8080/"
        }
      },
      "outputs": [
        {
          "output_type": "stream",
          "name": "stdout",
          "text": [
            "['T1_id', 'T1_nome', 'T1_id_fatura', 'T1_cd_sku', 'T1_tipo_frete', 'T1_rua', 'T1_num', 'T1_cep', 'T1_cidade', 'T1_uf', 'T1_vl_frete']\n"
          ]
        }
      ],
      "source": [
        "lista_t1 = []\n",
        "\n",
        "for coluna in lista_colunas:\n",
        "    pattern = 'T1_'\n",
        "    \n",
        "    if re.findall(pattern, coluna):\n",
        "        lista_t1.append(coluna)\n",
        "        \n",
        "print(lista_t1)"
      ]
    },
    {
      "cell_type": "code",
      "source": [
        "lista_ex = [1]\n",
        "\n",
        "if lista_ex:\n",
        "  print('List is not empty')\n",
        "else:\n",
        "  print('List is empty')"
      ],
      "metadata": {
        "id": "bg5IuNe44kAY",
        "outputId": "7134969f-94ee-4079-dfa2-426d1f75a1b6",
        "colab": {
          "base_uri": "https://localhost:8080/"
        }
      },
      "execution_count": 20,
      "outputs": [
        {
          "output_type": "stream",
          "name": "stdout",
          "text": [
            "List is not empty\n"
          ]
        }
      ]
    },
    {
      "cell_type": "markdown",
      "metadata": {
        "id": "k1W31U5quqw4"
      },
      "source": [
        "## Complex Patterns\n",
        "\n",
        "### Operator '|' - OR"
      ]
    },
    {
      "cell_type": "code",
      "execution_count": 28,
      "metadata": {
        "id": "KWHu_l6Fuqw4",
        "outputId": "6d87b18f-29a1-4f47-a9be-a454c3e08608",
        "colab": {
          "base_uri": "https://localhost:8080/"
        }
      },
      "outputs": [
        {
          "output_type": "execute_result",
          "data": {
            "text/plain": [
              "['dog', 'each', 'paw']"
            ]
          },
          "metadata": {},
          "execution_count": 28
        }
      ],
      "source": [
        "text = 'My neighbor, mr. Paw, has 5 dogs and each one has 4 paws'\n",
        "pattern = 'dog|paw|each'\n",
        "re.findall(pattern, text)"
      ]
    },
    {
      "cell_type": "markdown",
      "metadata": {
        "id": "uGM3JQpQuqw5"
      },
      "source": [
        "Selecting T1 or T4 columns:"
      ]
    },
    {
      "cell_type": "code",
      "execution_count": 30,
      "metadata": {
        "id": "uKDFHcOquqw5"
      },
      "outputs": [],
      "source": [
        "lista_colunas = ['T1_id', 'T1_nome', '       T1_id_fatura', 'T1_cd_sku', 'T2_cd_promo', 'T3_qt_vendido', 'T4_vl_total', \n",
        "                 'T5_vl_custo', 'T1_tipo_frete', 'T1_rua', '  T1_num', '    T1_cep', 'T1_cidade', 'T1_uf',\n",
        "                 'T1_vl_frete', '     T2_tp_promo4', '  T3_vl_promo1', 'T4_vl_sv', 'T5_qt_doado']"
      ]
    },
    {
      "cell_type": "code",
      "execution_count": 33,
      "metadata": {
        "id": "MX6x5Sosuqw5",
        "outputId": "a8669a88-561b-4994-9f6e-c47f4cf4b110",
        "colab": {
          "base_uri": "https://localhost:8080/"
        }
      },
      "outputs": [
        {
          "output_type": "stream",
          "name": "stdout",
          "text": [
            "['T1_id', 'T1_nome', '       T1_id_fatura', 'T1_cd_sku', 'T4_vl_total', 'T5_vl_custo', 'T1_tipo_frete', 'T1_rua', '  T1_num', '    T1_cep', 'T1_cidade', 'T1_uf', 'T1_vl_frete', '  T3_vl_promo1', 'T4_vl_sv']\n"
          ]
        }
      ],
      "source": [
        "pattern = 'T1|T4|_vl_'\n",
        "colunas_final = []\n",
        "\n",
        "for coluna in lista_colunas:\n",
        "    if re.findall(pattern, coluna):\n",
        "        colunas_final.append(coluna)\n",
        "\n",
        "print(colunas_final)"
      ]
    },
    {
      "cell_type": "markdown",
      "metadata": {
        "id": "K8NkyG-kuqw5"
      },
      "source": [
        "### Sets"
      ]
    },
    {
      "cell_type": "code",
      "source": [
        "text = 'My neighbor, mr. Paw, has 5 dogs and each one has 4 paws.'\n",
        "pattern = 'paw|dog'\n",
        "\n",
        "re.findall(pattern, text)"
      ],
      "metadata": {
        "id": "IbK-8A_66shH"
      },
      "execution_count": null,
      "outputs": []
    },
    {
      "cell_type": "code",
      "execution_count": 40,
      "metadata": {
        "id": "0GbpvTefuqw5",
        "outputId": "f7fbcdf7-30a7-4af7-a523-08a9fdae33be",
        "colab": {
          "base_uri": "https://localhost:8080/"
        }
      },
      "outputs": [
        {
          "output_type": "execute_result",
          "data": {
            "text/plain": [
              "['Paw', 'dog', 'paw', 'Dog']"
            ]
          },
          "metadata": {},
          "execution_count": 40
        }
      ],
      "source": [
        "text = 'My neighbor, mr. Paw, has 5 dogs and each one has 4 paws and another Dog.'\n",
        "pattern = '[Pp][Aa][Ww]|[Dd][Oo][Gg]'\n",
        "\n",
        "re.findall(pattern, text)"
      ]
    },
    {
      "cell_type": "code",
      "execution_count": 41,
      "metadata": {
        "id": "BrRRMx_Ruqw5",
        "outputId": "9777e43f-a8cc-4fc7-aa8b-60b1cda52432",
        "colab": {
          "base_uri": "https://localhost:8080/"
        }
      },
      "outputs": [
        {
          "output_type": "execute_result",
          "data": {
            "text/plain": [
              "['Meu', 'mEU', 'MeU']"
            ]
          },
          "metadata": {},
          "execution_count": 41
        }
      ],
      "source": [
        "text = 'Meu mEU MeUDEOS'\n",
        "pattern = '[Mm][Ee][Uu]'\n",
        "\n",
        "re.findall(pattern, text)"
      ]
    },
    {
      "cell_type": "code",
      "execution_count": 42,
      "metadata": {
        "id": "jLruLTV2uqw6",
        "outputId": "6a349523-009b-4eab-c9c7-50e7d3451d43",
        "colab": {
          "base_uri": "https://localhost:8080/"
        }
      },
      "outputs": [
        {
          "output_type": "execute_result",
          "data": {
            "text/plain": [
              "['Paw', 'paw']"
            ]
          },
          "metadata": {},
          "execution_count": 42
        }
      ],
      "source": [
        "text = 'My neighbor, mr. Paw, has 5 dogs and each one has 4 paws'\n",
        "pattern = '[Pp]aw'\n",
        "\n",
        "re.findall(pattern, text)"
      ]
    },
    {
      "cell_type": "code",
      "execution_count": 44,
      "metadata": {
        "id": "LXsylFs9uqw6",
        "outputId": "f0435003-97db-4def-fad1-956a03911844",
        "colab": {
          "base_uri": "https://localhost:8080/"
        }
      },
      "outputs": [
        {
          "output_type": "execute_result",
          "data": {
            "text/plain": [
              "['Pata', 'pata', 'pAta', 'fAta', 'fAca', '2ata']"
            ]
          },
          "metadata": {},
          "execution_count": 44
        }
      ],
      "source": [
        "text = 'Patas pata pAta fAta fAca 2Ace 2ata'\n",
        "pattern = '[pPasdf2][Aa][ct]a'\n",
        "\n",
        "re.findall(pattern, text)"
      ]
    },
    {
      "cell_type": "code",
      "source": [
        "text = 'My neighbor, mr. Paw, has 5 dogs and each one has 4 paws'\n",
        "pattern = '[Pp][Aa][Ww][,s]'\n",
        "\n",
        "re.findall(pattern, text)"
      ],
      "metadata": {
        "id": "Uin2daVq8D4E",
        "outputId": "a44c0cc4-3a18-4b90-b76c-ba6cf77ff365",
        "colab": {
          "base_uri": "https://localhost:8080/"
        }
      },
      "execution_count": 48,
      "outputs": [
        {
          "output_type": "execute_result",
          "data": {
            "text/plain": [
              "['Paw,', 'paws']"
            ]
          },
          "metadata": {},
          "execution_count": 48
        }
      ]
    },
    {
      "cell_type": "code",
      "execution_count": 49,
      "metadata": {
        "id": "BPnlLIeSuqw6",
        "outputId": "7c01e2eb-db32-43a7-abb4-08231da0cb08",
        "colab": {
          "base_uri": "https://localhost:8080/"
        }
      },
      "outputs": [
        {
          "output_type": "execute_result",
          "data": {
            "text/plain": [
              "['Paw', 'dog', 'paw']"
            ]
          },
          "metadata": {},
          "execution_count": 49
        }
      ],
      "source": [
        "text = 'My neighbor, mr. Paw, has 5 dogs and each one has 4 paws'\n",
        "pattern = '[Pp]aw|dog'\n",
        "re.findall(pattern, text)"
      ]
    },
    {
      "cell_type": "markdown",
      "metadata": {
        "id": "lp8rpuDouqw6"
      },
      "source": [
        "#### Application II"
      ]
    },
    {
      "cell_type": "code",
      "execution_count": 51,
      "metadata": {
        "id": "vQHDQI9puqw6"
      },
      "outputs": [],
      "source": [
        "# Extrair todas as colunas da T1 ou da T2\n",
        "lista_colunas = ['T1_id', 't1_nome', 'T1_id_fatura', 't1_cd_sku', 'T2_cd_promo', 'T3_qt_vendido', 'T4_vl_total', \n",
        "                 'T5_vl_custo', 'T1_tipo_frete', 'T1_rua', 'T1_num', 'T1_cep', 'T1_cidade', 't1_uf',\n",
        "                 'T1_vl_frete', 't2_tp_promo', 'T3_vl_promo', 'T4_vl_sv', 'T5_qt_doado']\n"
      ]
    },
    {
      "cell_type": "code",
      "execution_count": 53,
      "metadata": {
        "id": "WHfpAf9buqw6",
        "outputId": "89938c95-f6e6-4773-d4ef-91221736163b",
        "colab": {
          "base_uri": "https://localhost:8080/"
        }
      },
      "outputs": [
        {
          "output_type": "stream",
          "name": "stdout",
          "text": [
            "['T1_id', 't1_nome', 'T1_id_fatura', 't1_cd_sku', 'T2_cd_promo', 'T3_qt_vendido', 'T4_vl_total', 'T5_vl_custo', 'T1_tipo_frete', 'T1_rua', 'T1_num', 'T1_cep', 'T1_cidade', 't1_uf', 'T1_vl_frete', 't2_tp_promo', 'T3_vl_promo', 'T4_vl_sv', 'T5_qt_doado']\n"
          ]
        }
      ],
      "source": [
        "lista_colunas_T1T2 = []\n",
        "pattern = '[Tt][12345]'\n",
        "\n",
        "for coluna in lista_colunas:\n",
        "\n",
        "    if re.findall(pattern, coluna):\n",
        "        lista_colunas_T1T2.append(coluna)\n",
        "\n",
        "print(lista_colunas_T1T2)"
      ]
    },
    {
      "cell_type": "markdown",
      "metadata": {
        "id": "LP_EaECnuqw6"
      },
      "source": [
        "## `sub()` Function"
      ]
    },
    {
      "cell_type": "code",
      "execution_count": 54,
      "metadata": {
        "id": "IXuPO307uqw7",
        "outputId": "be8fe06f-033b-48b3-e09c-05db9f7a5a89",
        "colab": {
          "base_uri": "https://localhost:8080/",
          "height": 58
        }
      },
      "outputs": [
        {
          "output_type": "execute_result",
          "data": {
            "text/plain": [
              "'My neighbor, mr. Pedro, has 5 dogs and each one has 4 Pedros.'"
            ],
            "application/vnd.google.colaboratory.intrinsic+json": {
              "type": "string"
            }
          },
          "metadata": {},
          "execution_count": 54
        }
      ],
      "source": [
        "text = 'My neighbor, mr. Paw, has 5 dogs and each one has 4 paws.'\n",
        "pattern = '[Pp]aw'\n",
        "nova_pattern = 'Pedro'\n",
        "\n",
        "re.sub(pattern, nova_pattern, text)"
      ]
    },
    {
      "cell_type": "code",
      "source": [
        "text = 'My neighbor, mr. Paw, has 5 dogs and each one has 4 paws.'\n",
        "pattern = '[.,;:]'\n",
        "nova_pattern = ''\n",
        "\n",
        "re.sub(pattern, nova_pattern, text)"
      ],
      "metadata": {
        "id": "liN9fe4U9w5v",
        "outputId": "bed655db-e493-481e-d196-a3b889da6862",
        "colab": {
          "base_uri": "https://localhost:8080/",
          "height": 58
        }
      },
      "execution_count": 60,
      "outputs": [
        {
          "output_type": "execute_result",
          "data": {
            "text/plain": [
              "'My neighbor mr Paw has 5 dogs and each one has 4 paws'"
            ],
            "application/vnd.google.colaboratory.intrinsic+json": {
              "type": "string"
            }
          },
          "metadata": {},
          "execution_count": 60
        }
      ]
    },
    {
      "cell_type": "markdown",
      "metadata": {
        "id": "XQ26ym9juqw7"
      },
      "source": [
        "Podemos utilizar a função `sub()` para fazer a limpeza de strings semi-estruturados, por exemplo, nossa lista de colunas!"
      ]
    },
    {
      "cell_type": "code",
      "execution_count": 61,
      "metadata": {
        "id": "90iQqhzyuqw7"
      },
      "outputs": [],
      "source": [
        "lista_colunas = ['T1_id', 't1_nome', 'T1_id_fatura', 't1_cd_sku', 'T2_cd_promo', 'T3_qt_vendido', 'T4_vl_total', \n",
        "                 'T5_vl_custo', 'T1_tipo_frete', 'T1_rua', 'T1_num', 'T1_cep', 'T1_cidade', 'T1_uf',\n",
        "                 'T1_vl_frete', 't2_tp_promo', 'T3_vl_promo', 'T4_vl_sv', 'T5_qt_doado']"
      ]
    },
    {
      "cell_type": "code",
      "execution_count": 66,
      "metadata": {
        "id": "pbf80YhEuqw7",
        "outputId": "1c8add96-19ac-488e-8df0-f04a7e937670",
        "colab": {
          "base_uri": "https://localhost:8080/"
        }
      },
      "outputs": [
        {
          "output_type": "stream",
          "name": "stdout",
          "text": [
            "['id', 'nome', 'id_fatura', 'cd_sku', 'cd_promo', 'qt_vendido', 'vl_total', 'vl_custo', 'tipo_frete', 'rua', 'num', 'cep', 'cidade', 'uf', 'vl_frete', 'tp_promo', 'vl_promo', 'vl_sv', 'qt_doado']\n"
          ]
        }
      ],
      "source": [
        "lista_colunas_limpa = []\n",
        "pattern = '[Tt][123456789]_'\n",
        "new_pattern = ''\n",
        "\n",
        "for coluna in lista_colunas:\n",
        "  new_column_name = re.sub(pattern, new_pattern, coluna)\n",
        "  lista_colunas_limpa.append(new_column_name)\n",
        "\n",
        "print(lista_colunas_limpa)"
      ]
    },
    {
      "cell_type": "markdown",
      "metadata": {
        "id": "RPkyf7lyuqw7"
      },
      "source": [
        "## Special sets\n",
        "1. `[a-z]`: any lower case letter;\n",
        "1. `[A-Z]`: any upper case letter;\n",
        "1. `[0-9]`: any digit;\n",
        "1. `[A-Za-z]`: all letters;\n",
        "1. `[À-ž]`: all diacriticals."
      ]
    },
    {
      "cell_type": "code",
      "execution_count": 67,
      "metadata": {
        "id": "bVkRE6ADuqw7",
        "outputId": "06c25c0b-894e-4912-d34f-245980450a89",
        "colab": {
          "base_uri": "https://localhost:8080/"
        }
      },
      "outputs": [
        {
          "output_type": "execute_result",
          "data": {
            "text/plain": [
              "['nei', 'ghb', 'Paw', 'has', 'dog', 'and', 'eac', 'one', 'has', 'paw']"
            ]
          },
          "metadata": {},
          "execution_count": 67
        }
      ],
      "source": [
        "text = 'My neighbor, mr. Paw, has 5 dogs and each one has 4 paws'\n",
        "pattern = r'[A-Za-z][A-Za-z][A-Za-z]'\n",
        "re.findall(pattern, text)"
      ]
    },
    {
      "cell_type": "code",
      "execution_count": 69,
      "metadata": {
        "id": "a-qmlufCuqw8",
        "outputId": "9ef1d2de-e566-461e-c28a-0b34bcd0f7d7",
        "colab": {
          "base_uri": "https://localhost:8080/"
        }
      },
      "outputs": [
        {
          "output_type": "execute_result",
          "data": {
            "text/plain": [
              "['paws']"
            ]
          },
          "metadata": {},
          "execution_count": 69
        }
      ],
      "source": [
        "text = 'My neighbor, mr. Paw, has 5 dogs and each one has 4 paws'\n",
        "pattern = 'p[A-Za-zÀ-ž]ws'\n",
        "\n",
        "re.findall(pattern, text)"
      ]
    },
    {
      "cell_type": "code",
      "source": [],
      "metadata": {
        "id": "Trh-tpw2A9XJ"
      },
      "execution_count": null,
      "outputs": []
    },
    {
      "cell_type": "markdown",
      "metadata": {
        "id": "Kdy2Cdpnuqw8"
      },
      "source": [
        ". `^` is equivalent to NOT"
      ]
    },
    {
      "cell_type": "code",
      "execution_count": 71,
      "metadata": {
        "id": "E1nkAn8duqw8",
        "outputId": "468eccfd-4fe0-48aa-87d6-15c812024483",
        "colab": {
          "base_uri": "https://localhost:8080/"
        }
      },
      "outputs": [
        {
          "output_type": "execute_result",
          "data": {
            "text/plain": [
              "[' ',\n",
              " ',',\n",
              " ' ',\n",
              " '.',\n",
              " ' ',\n",
              " ',',\n",
              " ' ',\n",
              " ' ',\n",
              " ' ',\n",
              " ' ',\n",
              " ' ',\n",
              " ' ',\n",
              " ' ',\n",
              " ' ',\n",
              " ' ',\n",
              " '.',\n",
              " '\\n']"
            ]
          },
          "metadata": {},
          "execution_count": 71
        }
      ],
      "source": [
        "text = 'My neighbor, mr. Paw, has 5 dogs and each one has 4 paws.\\n'\n",
        "pattern = '[^A-Za-z0-9À-ž]'\n",
        "\n",
        "re.findall(pattern, text)"
      ]
    },
    {
      "cell_type": "markdown",
      "metadata": {
        "id": "uPRiawdNuqw9"
      },
      "source": [
        "## Meta-characters\n",
        "\n",
        "1. `\\w`: any alpha-numerical character ([0-9a-ZA-ZÀ-ž])\n",
        "3. `\\d`: any digit\n",
        "7. `.` : any charecter except newline - `\\n`."
      ]
    },
    {
      "cell_type": "code",
      "execution_count": 73,
      "metadata": {
        "id": "sqH7dmYQuqw9",
        "outputId": "78a298ee-d26a-4be2-b20c-d62b6d8d12ae",
        "colab": {
          "base_uri": "https://localhost:8080/"
        }
      },
      "outputs": [
        {
          "output_type": "stream",
          "name": "stdout",
          "text": [
            "['5', '4']\n"
          ]
        }
      ],
      "source": [
        "text = 'My neighbor, mr. Paw, has 5 dogs and each one has 4 paws'\n",
        "pattern = r'\\d'\n",
        "\n",
        "print(re.findall(pattern, text))"
      ]
    },
    {
      "cell_type": "code",
      "execution_count": 77,
      "metadata": {
        "id": "e8TzQ5_nuqw9",
        "outputId": "ecb621bf-dfe3-495b-fadf-7a3f31f06b77",
        "colab": {
          "base_uri": "https://localhost:8080/"
        }
      },
      "outputs": [
        {
          "output_type": "stream",
          "name": "stdout",
          "text": [
            "['nei', 'ghb', 'Paw', 'has', '555', 'dog', 'and', 'eac', 'one', 'has', 'paw']\n"
          ]
        }
      ],
      "source": [
        "text = 'My neighbor, mr. Paw, has 555 dogs and each one has 4 paws'\n",
        "pattern = r'\\w\\w\\w'\n",
        "\n",
        "print(re.findall(pattern, text))"
      ]
    },
    {
      "cell_type": "code",
      "execution_count": 79,
      "metadata": {
        "id": "S-ZNu-XSuqw9",
        "outputId": "b3813e59-e6e1-4da1-ea71-0eb0c1ac6c9e",
        "colab": {
          "base_uri": "https://localhost:8080/"
        }
      },
      "outputs": [
        {
          "output_type": "stream",
          "name": "stdout",
          "text": [
            "['M', 'y', ' ', 'n', 'e', 'i', 'g', 'h', 'b', 'o', 'r', ',', ' ', 'm', 'r', '.', ' ', 'P', 'a', 'w', ',', ' ', 'h', 'a', 's', ' ', '5', ' ', 'd', 'o', 'g', 's', ' ', 'a', 'n', 'd', ' ', 'e', 'a', 'c', 'h', ' ', 'o', 'n', 'e', ' ', 'h', 'a', 's', ' ', '4', ' ', 'p', 'a', 'w', 's']\n"
          ]
        }
      ],
      "source": [
        "text = 'My neighbor\\n, mr. Paw,\\n has 5 dogs\\n and each one has 4 paws'\n",
        "pattern = r'.'\n",
        "\n",
        "print(re.findall(pattern, text))"
      ]
    },
    {
      "cell_type": "code",
      "source": [
        "print(text)"
      ],
      "metadata": {
        "id": "0pQXwsKZCV0b",
        "outputId": "433e2b9c-2d9a-4cb5-e83c-b85631cc6a23",
        "colab": {
          "base_uri": "https://localhost:8080/"
        }
      },
      "execution_count": 80,
      "outputs": [
        {
          "output_type": "stream",
          "name": "stdout",
          "text": [
            "My neighbor\n",
            ", mr. Paw,\n",
            " has 5 dogs\n",
            " and each one has 4 paws\n"
          ]
        }
      ]
    },
    {
      "cell_type": "code",
      "source": [
        "''.join(re.findall(pattern, text))"
      ],
      "metadata": {
        "id": "YsCF5-0VCXq_",
        "outputId": "90a82ef9-cf27-43dd-9b14-3aa821612529",
        "colab": {
          "base_uri": "https://localhost:8080/",
          "height": 58
        }
      },
      "execution_count": 82,
      "outputs": [
        {
          "output_type": "execute_result",
          "data": {
            "text/plain": [
              "'My neighbor, mr. Paw, has 5 dogs and each one has 4 paws'"
            ],
            "application/vnd.google.colaboratory.intrinsic+json": {
              "type": "string"
            }
          },
          "metadata": {},
          "execution_count": 82
        }
      ]
    },
    {
      "cell_type": "code",
      "source": [
        "text = 'My neighbor, mr. Paw, has 555 dogs and each one has 4 paws'\n",
        "pattern = r'\\w\\w\\w'\n",
        "\n",
        "print(re.findall(pattern, text))"
      ],
      "metadata": {
        "id": "AQrj-wAAElT9",
        "outputId": "d491c800-34f3-4557-ffc1-6a4ed32808ab",
        "colab": {
          "base_uri": "https://localhost:8080/"
        }
      },
      "execution_count": 83,
      "outputs": [
        {
          "output_type": "stream",
          "name": "stdout",
          "text": [
            "['nei', 'ghb', 'Paw', 'has', '555', 'dog', 'and', 'eac', 'one', 'has', 'paw']\n"
          ]
        }
      ]
    },
    {
      "cell_type": "code",
      "source": [
        "documents = [\n",
        " 'My neighbor, mr. Paw, has 555 dogs and each one has 4 paws', \n",
        " 'My neighbor, mr. Paw, has dogs and each one has 4 paws', \n",
        " 'My neighbor, mr. Paw, has dogs and each one has paws'\n",
        "]"
      ],
      "metadata": {
        "id": "Ucf34WCqE222"
      },
      "execution_count": 87,
      "outputs": []
    },
    {
      "cell_type": "code",
      "source": [
        "match_lists = []\n",
        "for doc in documents:\n",
        "  results = re.findall(r'[0-9]', doc)\n",
        "  print(results)\n",
        "  if results:\n",
        "    match_lists.append(doc)\n",
        "print(match_lists)"
      ],
      "metadata": {
        "id": "LDEf2Z6HFBBA",
        "outputId": "41687b60-5465-46f2-a2ee-eb5ec681274e",
        "colab": {
          "base_uri": "https://localhost:8080/"
        }
      },
      "execution_count": 89,
      "outputs": [
        {
          "output_type": "stream",
          "name": "stdout",
          "text": [
            "['5', '5', '5', '4']\n",
            "['4']\n",
            "[]\n",
            "['My neighbor, mr. Paw, has 555 dogs and each one has 4 paws', 'My neighbor, mr. Paw, has dogs and each one has 4 paws']\n"
          ]
        }
      ]
    },
    {
      "cell_type": "code",
      "source": [
        "[doc for doc in documents if re.findall(r'[0-9]', doc)]"
      ],
      "metadata": {
        "id": "TOFKrBt-F1-l",
        "outputId": "15242a73-c9ce-47b5-d97e-7d58c0250cb6",
        "colab": {
          "base_uri": "https://localhost:8080/"
        }
      },
      "execution_count": 90,
      "outputs": [
        {
          "output_type": "execute_result",
          "data": {
            "text/plain": [
              "['My neighbor, mr. Paw, has 555 dogs and each one has 4 paws',\n",
              " 'My neighbor, mr. Paw, has dogs and each one has 4 paws']"
            ]
          },
          "metadata": {},
          "execution_count": 90
        }
      ]
    },
    {
      "cell_type": "code",
      "source": [
        "[re.findall(r'[0-9]', doc) for doc in documents]"
      ],
      "metadata": {
        "id": "t_XI_JvqGALT",
        "outputId": "cf6be9c8-4cfe-4a42-8cee-15d487175ecb",
        "colab": {
          "base_uri": "https://localhost:8080/"
        }
      },
      "execution_count": 91,
      "outputs": [
        {
          "output_type": "execute_result",
          "data": {
            "text/plain": [
              "[['5', '5', '5', '4'], ['4'], []]"
            ]
          },
          "metadata": {},
          "execution_count": 91
        }
      ]
    },
    {
      "cell_type": "code",
      "source": [
        "[doc for doc in documents if re.findall(r'[0-9]', doc) and re.findall(r'[a-z]', doc)]"
      ],
      "metadata": {
        "id": "wqatC02QGlt5",
        "outputId": "3dc0189c-d8f1-4dea-fb7a-a1d884d8806c",
        "colab": {
          "base_uri": "https://localhost:8080/"
        }
      },
      "execution_count": 92,
      "outputs": [
        {
          "output_type": "execute_result",
          "data": {
            "text/plain": [
              "['My neighbor, mr. Paw, has 555 dogs and each one has 4 paws',\n",
              " 'My neighbor, mr. Paw, has dogs and each one has 4 paws']"
            ]
          },
          "metadata": {},
          "execution_count": 92
        }
      ]
    },
    {
      "cell_type": "code",
      "source": [
        "text = 'My neighbor, mr. Paw, has 555 dogs and each one has 4 paws'\n",
        "pattern = r' \\w\\w\\w\\w[,. ]'\n",
        "\n",
        "print(re.findall(pattern, text))"
      ],
      "metadata": {
        "id": "c_oOHE2fHEPc",
        "outputId": "9d18230f-91a8-4239-c463-4502303b5d71",
        "colab": {
          "base_uri": "https://localhost:8080/"
        }
      },
      "execution_count": 95,
      "outputs": [
        {
          "output_type": "stream",
          "name": "stdout",
          "text": [
            "[' dogs ', ' each ']\n"
          ]
        }
      ]
    },
    {
      "cell_type": "code",
      "source": [
        "\"pedro.teche@ironhack.com\"\n",
        "\n",
        "\"[a-z][a-z]?? @ [a-z][a-z] ??? .co\""
      ],
      "metadata": {
        "id": "Q2pO_u0DHZDU"
      },
      "execution_count": null,
      "outputs": []
    },
    {
      "cell_type": "markdown",
      "metadata": {
        "id": "Wj1MFXsMuqw9"
      },
      "source": [
        "## Quantifiers\n",
        "1. `*`: 0 or more;\n",
        "2. `?`: 0 ou 1;\n",
        "3. `+`: At least one;"
      ]
    },
    {
      "cell_type": "code",
      "execution_count": 97,
      "metadata": {
        "id": "FQcbiioiuqw9",
        "outputId": "a34bdabe-a74f-4b51-aa95-e9f5437d49d5",
        "colab": {
          "base_uri": "https://localhost:8080/"
        }
      },
      "outputs": [
        {
          "output_type": "execute_result",
          "data": {
            "text/plain": [
              "['My',\n",
              " 'neighbor',\n",
              " 'mr',\n",
              " 'Paw',\n",
              " 'has',\n",
              " 'dogs',\n",
              " 'and',\n",
              " 'each',\n",
              " 'one',\n",
              " 'has',\n",
              " 'paws']"
            ]
          },
          "metadata": {},
          "execution_count": 97
        }
      ],
      "source": [
        "text = 'My neighbor, mr. Paw, has 5 dogs and each one has 4 paws.'\n",
        "pattern = r'[A-Za-z]+'\n",
        "\n",
        "re.findall(pattern, text)"
      ]
    },
    {
      "cell_type": "code",
      "source": [
        "text1 = 'The price of the product was R$99.99'\n",
        "text2 = 'The price of the product was R$9,999.99'\n",
        "text3 = 'The price of the product was R$99'\n",
        "'99.99'\n",
        "'9,999.99'\n",
        "'99'"
      ],
      "metadata": {
        "id": "pHhX40U4IzX2"
      },
      "execution_count": null,
      "outputs": []
    },
    {
      "cell_type": "code",
      "source": [],
      "metadata": {
        "id": "wsNTNQXoI3BO"
      },
      "execution_count": null,
      "outputs": []
    },
    {
      "cell_type": "code",
      "execution_count": 98,
      "metadata": {
        "id": "V2xK_54kuqw-",
        "outputId": "dd09b2a9-45e4-403a-ca1c-1fc110ef025e",
        "colab": {
          "base_uri": "https://localhost:8080/"
        }
      },
      "outputs": [
        {
          "output_type": "execute_result",
          "data": {
            "text/plain": [
              "['My',\n",
              " 'neighbor',\n",
              " 'mr',\n",
              " 'Paw',\n",
              " 'has',\n",
              " '5',\n",
              " 'dogs',\n",
              " 'and',\n",
              " 'each',\n",
              " 'one',\n",
              " 'has',\n",
              " '4',\n",
              " 'paws']"
            ]
          },
          "metadata": {},
          "execution_count": 98
        }
      ],
      "source": [
        "text = 'My neighbor, mr. Paw, has 5 dogs and each one has 4 paws.'\n",
        "pattern = r'[A-z0-9]+'\n",
        "\n",
        "re.findall(pattern, text)"
      ]
    },
    {
      "cell_type": "code",
      "source": [
        "text1 = 'The price of the product was R$999.47'\n",
        "pattern = r'[0-9]+'\n",
        "\n",
        "re.findall(pattern, text1)"
      ],
      "metadata": {
        "id": "W_c7CUgoJZOO",
        "outputId": "8eace466-f30e-4743-9d28-82d6592d99cb",
        "colab": {
          "base_uri": "https://localhost:8080/"
        }
      },
      "execution_count": 102,
      "outputs": [
        {
          "output_type": "execute_result",
          "data": {
            "text/plain": [
              "['999', '47']"
            ]
          },
          "metadata": {},
          "execution_count": 102
        }
      ]
    },
    {
      "cell_type": "code",
      "execution_count": 103,
      "metadata": {
        "id": "DU9EUpwNuqw-",
        "outputId": "46aa44b6-1320-4cd7-c64e-2e7831cdc0bc",
        "colab": {
          "base_uri": "https://localhost:8080/"
        }
      },
      "outputs": [
        {
          "output_type": "execute_result",
          "data": {
            "text/plain": [
              "['5', '4']"
            ]
          },
          "metadata": {},
          "execution_count": 103
        }
      ],
      "source": [
        "text = 'My neighbor, mr. Paw, has 5 dogs and each one has 4 paws.'\n",
        "pattern = r'[0-9]+'\n",
        "\n",
        "re.findall(pattern, text)"
      ]
    },
    {
      "cell_type": "markdown",
      "metadata": {
        "id": "MenGMOM8uqw-"
      },
      "source": [
        "## EApplication III"
      ]
    },
    {
      "cell_type": "code",
      "execution_count": 105,
      "metadata": {
        "id": "v2OKnB75uqw-",
        "outputId": "0298cc73-9eb6-4b4c-87d7-5cce48d65dfe",
        "colab": {
          "base_uri": "https://localhost:8080/"
        }
      },
      "outputs": [
        {
          "output_type": "stream",
          "name": "stdout",
          "text": [
            "['>Venues', '>Marketing', '>medalists', '>Controversies', '>Paralympics', '>snowboarding', '>[1]', '>Netherlands', '>[2]', '>Norway', '>[10]', '>[11]', '>References', '>edit', '>[12]', '>Norway', '>Germany', '>Canada', '>Netherlands', '>Japan', '>Italy', '>Belarus', '>China', '>Slovakia', '>Slovenia', '>Belgium', '>Spain', '>Kazakhstan', '>[15]', '>1964', '>1968', '>1972', '>1992', '>1996', '>2000']\n"
          ]
        }
      ],
      "source": [
        "import re\n",
        "\n",
        "str=\"\"\"\n",
        ">Venues\n",
        ">Marketing\n",
        ">medalists\n",
        ">Controversies\n",
        ">Paralympics\n",
        ">snowboarding\n",
        ">[1]\n",
        ">Netherlands\n",
        ">[2]\n",
        ">Norway\n",
        ">[10]\n",
        ">[11]\n",
        ">References\n",
        ">edit\n",
        ">[12]\n",
        ">Norway\n",
        ">Germany\n",
        ">Canada\n",
        ">Netherlands\n",
        ">Japan\n",
        ">Italy\n",
        ">Belarus\n",
        ">China\n",
        ">Slovakia\n",
        "<$#%#$%\n",
        "<#$#$$\n",
        "<**&&^^\n",
        ">Slovenia\n",
        ">Belgium\n",
        ">Spain\n",
        ">Kazakhstan\n",
        ">[15]\n",
        ">1964\n",
        ">1968\n",
        ">1972\n",
        ">1992\n",
        ">1996\n",
        ">2000\"\"\"\n",
        "\n",
        "pattern = r'>.+'\n",
        "data=re.findall(pattern, str)\n",
        "\n",
        "print(data)"
      ]
    },
    {
      "cell_type": "markdown",
      "metadata": {
        "id": "LGG90jGCuqw_"
      },
      "source": [
        "## Application IV"
      ]
    },
    {
      "cell_type": "code",
      "execution_count": 109,
      "metadata": {
        "id": "_d9AFqPfuqw_",
        "outputId": "f1d03cbb-ec13-4fae-a913-46181895b5aa",
        "colab": {
          "base_uri": "https://localhost:8080/"
        }
      },
      "outputs": [
        {
          "output_type": "stream",
          "name": "stdout",
          "text": [
            "['franky@google.net', 'sinatra123@yahoo.com']\n"
          ]
        }
      ],
      "source": [
        "import re\n",
        "\n",
        "str='The advancements in biomarine studies franky@google.net with the investments necessary and Davos sinatra123@yahoo.com Then The New Yorker article on wind farms...'\n",
        "\n",
        "pattern = r'[a-zA-Z0-9]+@[a-zA-Z0-9]+.[a-zA-Z]+'\n",
        "emails=re.findall(pattern, str)\n",
        "print(emails)"
      ]
    },
    {
      "cell_type": "markdown",
      "metadata": {
        "id": "BDcv7_Mfuqw_"
      },
      "source": [
        "Crie um segundo padrão para extrair apenas os domínios dos e-mails encontrados no texto (`@google.com` e `@yahoo.com`)"
      ]
    },
    {
      "cell_type": "code",
      "execution_count": 110,
      "metadata": {
        "id": "gTqY2kJSuqw_",
        "outputId": "02e46f79-33c4-4b18-e99f-1899231a2d0e",
        "colab": {
          "base_uri": "https://localhost:8080/"
        }
      },
      "outputs": [
        {
          "output_type": "stream",
          "name": "stdout",
          "text": [
            "['@yahoo.com']\n"
          ]
        }
      ],
      "source": [
        "pattern = r'@[a-zA-Z0-9]+.com'\n",
        "domains=re.findall(pattern, str)\n",
        "\n",
        "print(domains)"
      ]
    },
    {
      "cell_type": "markdown",
      "metadata": {
        "id": "BUZGF_9Luqw_"
      },
      "source": [
        "## Application V"
      ]
    },
    {
      "cell_type": "code",
      "execution_count": 111,
      "metadata": {
        "id": "DPIwokTzuqw_",
        "outputId": "fed91b5f-daea-4503-d860-c4a8c0e986f5",
        "colab": {
          "base_uri": "https://localhost:8080/"
        }
      },
      "outputs": [
        {
          "output_type": "stream",
          "name": "stdout",
          "text": [
            "['21298', '21299']\n"
          ]
        }
      ],
      "source": [
        "import re\n",
        "\n",
        "str='''\n",
        "Ancient Script 21298: The Takenouchi documents are the ancient historical records that have been secretly preserved and passed down from generation to generation by the Takenouchi family, the head of family being the chief priest of the Koso Kotai Jingu shrine. 212-111-5932 \n",
        "Ancient Sword 21299: The Takenouchi swords are the ancient historical swords that have been secretly preserved and passed down from generation to generation by the Takenouchi family, the head of family being the chief priest of the Koso Kotai Jingu shrine. 212-111-5932\n",
        "Ancient Jewelry 21300: The Takenouchi gems are the ancient historical jewels that have been secretly preserved and passed down from generation to generation by the Takenouchi family, the head of family being the chief priest of the Koso Kotai Jingu shrine. 212-111-5932\n",
        "'''\n",
        "\n",
        "pattern = r'212[0-9]+'\n",
        "data=re.findall(pattern, str)\n",
        "\n",
        "print(data)"
      ]
    },
    {
      "cell_type": "markdown",
      "metadata": {
        "id": "pKQixLA4uqw_"
      },
      "source": [
        "Construa outro padrão para extrair a linha completa de informação associada a cada artefato cujo ID (21298, 21299, 21300) começa com 212."
      ]
    },
    {
      "cell_type": "code",
      "execution_count": 121,
      "metadata": {
        "id": "sK4Hmbg3uqw_",
        "outputId": "8a21b72d-8018-4f5d-a17d-6c7617f41d91",
        "colab": {
          "base_uri": "https://localhost:8080/"
        }
      },
      "outputs": [
        {
          "output_type": "stream",
          "name": "stdout",
          "text": [
            "['Ancient Script 21298: The Takenouchi documents are the ancient historical records that have been secretly preserved and passed down from generation to generation by the Takenouchi family, the head of family being the chief priest of the Koso Kotai Jingu shrine. 212-111-5932 ', 'Ancient Sword 21299: The Takenouchi swords are the ancient historical swords that have been secretly preserved and passed down from generation to generation by the Takenouchi family, the head of family being the chief priest of the Koso Kotai Jingu shrine. 212-111-5932', 'Ancient Jewelry 21300: The Takenouchi gems are the ancient historical jewels that have been secretly preserved and passed down from generation to generation by the Takenouchi family, the head of family being the chief priest of the Koso Kotai Jingu shrine. 212-111-5932']\n"
          ]
        }
      ],
      "source": [
        "pattern = r'212[0-9]+.+'\n",
        "data=re.findall(pattern, str)\n",
        "\n",
        "print(data)"
      ]
    },
    {
      "cell_type": "code",
      "source": [
        "data[2]"
      ],
      "metadata": {
        "id": "GiWcaNyrLZ2y",
        "outputId": "28bfc2dc-f9d2-40d7-ad61-398a31f9fc26",
        "colab": {
          "base_uri": "https://localhost:8080/",
          "height": 75
        }
      },
      "execution_count": 125,
      "outputs": [
        {
          "output_type": "execute_result",
          "data": {
            "text/plain": [
              "'Ancient Jewelry 21300: The Takenouchi gems are the ancient historical jewels that have been secretly preserved and passed down from generation to generation by the Takenouchi family, the head of family being the chief priest of the Koso Kotai Jingu shrine. 212-111-5932'"
            ],
            "application/vnd.google.colaboratory.intrinsic+json": {
              "type": "string"
            }
          },
          "metadata": {},
          "execution_count": 125
        }
      ]
    },
    {
      "cell_type": "code",
      "source": [
        "data[1]"
      ],
      "metadata": {
        "id": "1SmMjmcoLbXv",
        "outputId": "adce2fed-3301-4e6a-eeaa-2575e0611fb4",
        "colab": {
          "base_uri": "https://localhost:8080/",
          "height": 75
        }
      },
      "execution_count": 114,
      "outputs": [
        {
          "output_type": "execute_result",
          "data": {
            "text/plain": [
              "'21299: The Takenouchi swords are the ancient historical swords that have been secretly preserved and passed down from generation to generation by the Takenouchi family, the head of family being the chief priest of the Koso Kotai Jingu shrine. 212-111-5932'"
            ],
            "application/vnd.google.colaboratory.intrinsic+json": {
              "type": "string"
            }
          },
          "metadata": {},
          "execution_count": 114
        }
      ]
    },
    {
      "cell_type": "markdown",
      "metadata": {
        "id": "4OKoEVnQuqxA"
      },
      "source": [
        "# More Challenges!\n",
        "\n",
        "https://www.hackerrank.com/domains/regex - Hackerrank possui toda uma trilha de aprendizagem associada à REGEX;\n",
        "\n",
        "https://regexone.com/lesson/introduction_abcs - REGEXONE traz não apenas exercícios mas também breves lições sobre os conceitos abordados em cada ex.\n"
      ]
    },
    {
      "cell_type": "markdown",
      "metadata": {
        "id": "1jGez4XuuqxA"
      },
      "source": []
    }
  ],
  "metadata": {
    "kernelspec": {
      "display_name": "Python 3.9.11 ('base')",
      "language": "python",
      "name": "python3"
    },
    "language_info": {
      "codemirror_mode": {
        "name": "ipython",
        "version": 3
      },
      "file_extension": ".py",
      "mimetype": "text/x-python",
      "name": "python",
      "nbconvert_exporter": "python",
      "pygments_lexer": "ipython3",
      "version": "3.9.11"
    },
    "orig_nbformat": 4,
    "vscode": {
      "interpreter": {
        "hash": "014f4a4a5af8f0104b12c029e500f4146d6d785e8cf714d2a35b7a9514230cd3"
      }
    },
    "colab": {
      "provenance": []
    }
  },
  "nbformat": 4,
  "nbformat_minor": 0
}