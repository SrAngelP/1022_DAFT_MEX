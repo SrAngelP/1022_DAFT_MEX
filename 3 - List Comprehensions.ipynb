{
 "cells": [
  {
   "cell_type": "markdown",
   "metadata": {
    "id": "8U4QS8anhGpS"
   },
   "source": [
    "# List Comprehensions\n",
    "\n",
    "**List comprehensions** are a compact way to create lists from loops. In this class we will learn to use them to write clearer code!\n",
    "\n",
    "## Creating Lists with Loops"
   ]
  },
  {
   "cell_type": "code",
   "execution_count": 21,
   "metadata": {
    "id": "O4SsmBHapfjX"
   },
   "outputs": [],
   "source": [
    "lista_orig = [1, 2, 6, 10, 24, 42]\n",
    "new_list = lista_orig"
   ]
  },
  {
   "cell_type": "code",
   "execution_count": 24,
   "metadata": {
    "colab": {
     "base_uri": "https://localhost:8080/"
    },
    "id": "U6lB1BfWrjIe",
    "outputId": "b457ed7a-febb-4447-e6a8-4e864a4dad2e"
   },
   "outputs": [
    {
     "name": "stdout",
     "output_type": "stream",
     "text": [
      "[1, 4, 6, 10, 24, 42]\n"
     ]
    }
   ],
   "source": [
    "new_list[1] = new_list[1] + 2\n",
    "print(new_list)"
   ]
  },
  {
   "cell_type": "code",
   "execution_count": 25,
   "metadata": {
    "colab": {
     "base_uri": "https://localhost:8080/"
    },
    "id": "e-yc25gerc0i",
    "outputId": "8821f2eb-b5e2-4895-c527-609e8ccf612a"
   },
   "outputs": [
    {
     "data": {
      "text/plain": [
       "[1, 4, 6, 10, 24, 42]"
      ]
     },
     "execution_count": 25,
     "metadata": {},
     "output_type": "execute_result"
    }
   ],
   "source": [
    "lista_orig"
   ]
  },
  {
   "cell_type": "code",
   "execution_count": 18,
   "metadata": {
    "id": "z32zBi96rMKO"
   },
   "outputs": [],
   "source": [
    "new_list[1] = new_list[1] + 2"
   ]
  },
  {
   "cell_type": "code",
   "execution_count": 19,
   "metadata": {
    "colab": {
     "base_uri": "https://localhost:8080/"
    },
    "id": "2ND5Z4PBrOen",
    "outputId": "e4ffb6cf-1ed5-459a-9822-9474ccd5b826"
   },
   "outputs": [
    {
     "data": {
      "text/plain": [
       "[1, 4, 6, 10, 24, 42]"
      ]
     },
     "execution_count": 19,
     "metadata": {},
     "output_type": "execute_result"
    }
   ],
   "source": [
    "lista_orig"
   ]
  },
  {
   "cell_type": "code",
   "execution_count": 17,
   "metadata": {
    "colab": {
     "base_uri": "https://localhost:8080/"
    },
    "id": "saCGuKAUhGpT",
    "outputId": "a3d8edb0-5c85-455f-bc7a-119407414b4d"
   },
   "outputs": [
    {
     "name": "stdout",
     "output_type": "stream",
     "text": [
      "['1 Pedro', '2 Pedro', '6 Pedro', '10 Pedro', '24 Pedro', '42 Pedro']\n"
     ]
    }
   ],
   "source": [
    "# create a list of squared numbers\n",
    "lista_vazia = []\n",
    "\n",
    "for i in lista_orig:\n",
    "  x = str(i) + ' Pedro'\n",
    "  lista_vazia.append(x)\n",
    "\n",
    "print(lista_vazia)"
   ]
  },
  {
   "cell_type": "code",
   "execution_count": 4,
   "metadata": {
    "colab": {
     "base_uri": "https://localhost:8080/"
    },
    "id": "s8Xqwqk1p5rG",
    "outputId": "6c7cdb8f-cc6f-4487-fd61-b9e4cbb7d851"
   },
   "outputs": [
    {
     "name": "stdout",
     "output_type": "stream",
     "text": [
      "[1, 2, 6, 10, 24, 42]\n",
      "[1, 4, 36, 100, 576, 1764]\n"
     ]
    }
   ],
   "source": [
    "print(lista_orig)\n",
    "print(lista_vazia)"
   ]
  },
  {
   "cell_type": "code",
   "execution_count": 6,
   "metadata": {
    "id": "m7s61mhnqDJx"
   },
   "outputs": [],
   "source": [
    "lista_ex = [1, 3, 4]"
   ]
  },
  {
   "cell_type": "code",
   "execution_count": 9,
   "metadata": {
    "id": "sjKJR0zcqThg"
   },
   "outputs": [],
   "source": [
    "sets1 = set([1,2,3])"
   ]
  },
  {
   "cell_type": "code",
   "execution_count": 12,
   "metadata": {
    "id": "Jb7tnrfNqY5u"
   },
   "outputs": [],
   "source": [
    "sets1.add(4)"
   ]
  },
  {
   "cell_type": "code",
   "execution_count": 13,
   "metadata": {
    "colab": {
     "base_uri": "https://localhost:8080/"
    },
    "id": "tO3dlGe-qaS9",
    "outputId": "21a9e5b1-60a2-4b71-9c20-0abc4d5ea61c"
   },
   "outputs": [
    {
     "data": {
      "text/plain": [
       "{1, 2, 3, 4}"
      ]
     },
     "execution_count": 13,
     "metadata": {},
     "output_type": "execute_result"
    }
   ],
   "source": [
    "sets1"
   ]
  },
  {
   "cell_type": "code",
   "execution_count": 14,
   "metadata": {
    "id": "d5RaC0fSqeVQ"
   },
   "outputs": [],
   "source": [
    "dict1 = dict()\n",
    "dict1['new_key'] = 'value'"
   ]
  },
  {
   "cell_type": "code",
   "execution_count": 15,
   "metadata": {
    "colab": {
     "base_uri": "https://localhost:8080/"
    },
    "id": "uBERcY_rqkIC",
    "outputId": "e7f39f75-b13e-476e-8c5c-c13ce19a9e69"
   },
   "outputs": [
    {
     "data": {
      "text/plain": [
       "{'new_key': 'value'}"
      ]
     },
     "execution_count": 15,
     "metadata": {},
     "output_type": "execute_result"
    }
   ],
   "source": [
    "dict1"
   ]
  },
  {
   "cell_type": "code",
   "execution_count": null,
   "metadata": {
    "id": "1-Y4geqQrHvX"
   },
   "outputs": [],
   "source": []
  },
  {
   "cell_type": "markdown",
   "metadata": {
    "id": "kcSOdnimhGpU"
   },
   "source": [
    "## Comprehensions"
   ]
  },
  {
   "cell_type": "code",
   "execution_count": null,
   "metadata": {
    "id": "ryxA3HaxsmQH"
   },
   "outputs": [],
   "source": []
  },
  {
   "cell_type": "code",
   "execution_count": 26,
   "metadata": {
    "colab": {
     "base_uri": "https://localhost:8080/"
    },
    "id": "1sNKM2Lpr92U",
    "outputId": "5fcb507e-3b62-4b86-afdd-bc9c8fd401b9"
   },
   "outputs": [
    {
     "data": {
      "text/plain": [
       "[1, 2, 6, 10, 24, 42]"
      ]
     },
     "execution_count": 26,
     "metadata": {},
     "output_type": "execute_result"
    }
   ],
   "source": [
    "lista_orig = [1, 2, 6, 10, 24, 42]\n",
    "lista_orig"
   ]
  },
  {
   "cell_type": "code",
   "execution_count": 29,
   "metadata": {
    "colab": {
     "base_uri": "https://localhost:8080/"
    },
    "id": "XSQNAMZFsANi",
    "outputId": "f8a0de71-aa79-431d-b08e-b8d6e0a2e3b2"
   },
   "outputs": [
    {
     "data": {
      "text/plain": [
       "[1, 4, 36, 100, 576, 1764]"
      ]
     },
     "execution_count": 29,
     "metadata": {},
     "output_type": "execute_result"
    }
   ],
   "source": [
    "[item ** 2 for item in lista_orig]"
   ]
  },
  {
   "cell_type": "markdown",
   "metadata": {
    "id": "vFVR3p4JsNuV"
   },
   "source": [
    "* first part `[item ...` - WHAT WE WANT\n",
    "* second part `...for item in lista_orig]` - WHERE WE GET IT "
   ]
  },
  {
   "cell_type": "code",
   "execution_count": 30,
   "metadata": {
    "ExecuteTime": {
     "end_time": "2020-06-03T14:42:07.887522Z",
     "start_time": "2020-06-03T14:42:07.883533Z"
    },
    "colab": {
     "base_uri": "https://localhost:8080/"
    },
    "id": "gM9VrdmfhGpV",
    "outputId": "ad68209d-9be2-40e9-b4b0-93f43d2b8683"
   },
   "outputs": [
    {
     "name": "stdout",
     "output_type": "stream",
     "text": [
      "[1, 4, 36, 100, 576, 1764]\n"
     ]
    }
   ],
   "source": [
    "new_lc = [item**2 for item in lista_orig]\n",
    "print(new_lc)"
   ]
  },
  {
   "cell_type": "code",
   "execution_count": 31,
   "metadata": {
    "colab": {
     "base_uri": "https://localhost:8080/"
    },
    "id": "eRI-Vz7nsm6o",
    "outputId": "0f9541fb-cfa2-417b-8ea6-420f47acd62e"
   },
   "outputs": [
    {
     "name": "stdout",
     "output_type": "stream",
     "text": [
      "[1, 4, 36, 100, 576, 1764]\n"
     ]
    }
   ],
   "source": [
    "# create a list of squared numbers\n",
    "lista_vazia = []\n",
    "\n",
    "for i in lista_orig:\n",
    "  x = i ** 2\n",
    "  lista_vazia.append(x)\n",
    "\n",
    "print(lista_vazia)"
   ]
  },
  {
   "cell_type": "code",
   "execution_count": 32,
   "metadata": {
    "colab": {
     "base_uri": "https://localhost:8080/"
    },
    "id": "UvlC3ZEthGpV",
    "outputId": "819dfc0b-2001-43a7-c805-3cf7da5353b3"
   },
   "outputs": [
    {
     "data": {
      "text/plain": [
       "[0, 1, 2, 3, 4, 5, 6, 7, 8, 9]"
      ]
     },
     "execution_count": 32,
     "metadata": {},
     "output_type": "execute_result"
    }
   ],
   "source": [
    "[item for item in range(10)]"
   ]
  },
  {
   "cell_type": "code",
   "execution_count": 35,
   "metadata": {
    "colab": {
     "base_uri": "https://localhost:8080/"
    },
    "id": "j4IXQRkes_Rl",
    "outputId": "da71d0eb-75fe-44a8-bed2-c79f3f08bfa3"
   },
   "outputs": [
    {
     "data": {
      "text/plain": [
       "[0.5, 1.0, 1.5]"
      ]
     },
     "execution_count": 35,
     "metadata": {},
     "output_type": "execute_result"
    }
   ],
   "source": [
    "[item/2 for item in set([1,2,3])]"
   ]
  },
  {
   "cell_type": "markdown",
   "metadata": {
    "id": "oDw5ZM2ghGpV"
   },
   "source": [
    "## Functions in `list comprehensions`"
   ]
  },
  {
   "cell_type": "code",
   "execution_count": 36,
   "metadata": {
    "colab": {
     "base_uri": "https://localhost:8080/"
    },
    "id": "5juHGh5YhGpV",
    "outputId": "25c2f41b-9e58-4b93-ba5a-5e4efee170b0"
   },
   "outputs": [
    {
     "data": {
      "text/plain": [
       "16"
      ]
     },
     "execution_count": 36,
     "metadata": {},
     "output_type": "execute_result"
    }
   ],
   "source": [
    "def quadrado(x):\n",
    "    '''\n",
    "    Retorna o quadrado de um número.\n",
    "    Parameters:\n",
    "        x Float: número a ser elevado ao quadrado\n",
    "    Returns:\n",
    "        Float: x ao quadrado\n",
    "    '''\n",
    "    return x ** 2\n",
    "\n",
    "quadrado(4)"
   ]
  },
  {
   "cell_type": "code",
   "execution_count": null,
   "metadata": {
    "id": "s8yVUnjpuHfN"
   },
   "outputs": [],
   "source": []
  },
  {
   "cell_type": "code",
   "execution_count": 37,
   "metadata": {
    "colab": {
     "base_uri": "https://localhost:8080/"
    },
    "id": "JqCB7g4LtoCx",
    "outputId": "e117c070-c084-42dd-ff52-ce04e5688b84"
   },
   "outputs": [
    {
     "data": {
      "text/plain": [
       "4"
      ]
     },
     "execution_count": 37,
     "metadata": {},
     "output_type": "execute_result"
    }
   ],
   "source": [
    "quadrado(2)"
   ]
  },
  {
   "cell_type": "code",
   "execution_count": 48,
   "metadata": {
    "colab": {
     "base_uri": "https://localhost:8080/"
    },
    "id": "eUm8gCsFuNkY",
    "outputId": "3bc4dd60-cb46-45aa-85f3-e5b8c8c695b0"
   },
   "outputs": [
    {
     "data": {
      "text/plain": [
       "[[2, 3], [1, 2], [1, 2, 3, 4, 5, 6]]"
      ]
     },
     "execution_count": 48,
     "metadata": {},
     "output_type": "execute_result"
    }
   ],
   "source": [
    "l_o_l = [[2,3], [1, 2], [1,2,3,4,5,6]]\n",
    "l_o_l"
   ]
  },
  {
   "cell_type": "code",
   "execution_count": 49,
   "metadata": {
    "colab": {
     "base_uri": "https://localhost:8080/"
    },
    "id": "4UkdgSqehGpW",
    "outputId": "8b05dcd8-b4ae-47a9-abe3-050e7f0b0697"
   },
   "outputs": [
    {
     "name": "stdout",
     "output_type": "stream",
     "text": [
      "[[2, 3], [1, 2], [1, 2]]\n"
     ]
    }
   ],
   "source": [
    "new_lc = [x[:2] for x in l_o_l]\n",
    "print(new_lc)"
   ]
  },
  {
   "cell_type": "code",
   "execution_count": null,
   "metadata": {
    "id": "ck-1F6v3uaEJ"
   },
   "outputs": [],
   "source": []
  },
  {
   "cell_type": "markdown",
   "metadata": {
    "ExecuteTime": {
     "end_time": "2020-07-16T22:46:10.223420Z",
     "start_time": "2020-07-16T22:46:10.219430Z"
    },
    "id": "kOKJmcu-hGpW"
   },
   "source": [
    "## Filters in `list comprehensions`"
   ]
  },
  {
   "cell_type": "code",
   "execution_count": 55,
   "metadata": {
    "colab": {
     "base_uri": "https://localhost:8080/"
    },
    "id": "uqLRb4N9uzMd",
    "outputId": "513b11db-108a-480b-d759-8355b4a3a208"
   },
   "outputs": [
    {
     "data": {
      "text/plain": [
       "False"
      ]
     },
     "execution_count": 55,
     "metadata": {},
     "output_type": "execute_result"
    }
   ],
   "source": [
    "3 % 2 == 0"
   ]
  },
  {
   "cell_type": "code",
   "execution_count": 58,
   "metadata": {
    "ExecuteTime": {
     "end_time": "2020-06-03T14:49:13.891051Z",
     "start_time": "2020-06-03T14:49:13.887055Z"
    },
    "colab": {
     "base_uri": "https://localhost:8080/"
    },
    "id": "vfKcYXckhGpX",
    "outputId": "ede92fd4-141e-4ca9-ad5e-a7aa1fb292ba"
   },
   "outputs": [
    {
     "name": "stdout",
     "output_type": "stream",
     "text": [
      "[6, 8, 10]\n"
     ]
    }
   ],
   "source": [
    "new_list = []\n",
    "\n",
    "for item in [1,3,6,7,8,9,10]:\n",
    "    if item % 2 == 0:\n",
    "        new_list.append(item)\n",
    "        \n",
    "print(new_list)"
   ]
  },
  {
   "cell_type": "markdown",
   "metadata": {
    "id": "8Tinr9-ZvYy8"
   },
   "source": [
    "* first part `[item ...` - WHAT WE WANT\n",
    "* second part `...for item in lista_orig...` - WHERE WE GET IT \n",
    "* third part `... if x % 2 ==0]` - WHAT WE KEEP"
   ]
  },
  {
   "cell_type": "code",
   "execution_count": 62,
   "metadata": {
    "ExecuteTime": {
     "end_time": "2020-06-03T14:51:30.490979Z",
     "start_time": "2020-06-03T14:51:30.487961Z"
    },
    "colab": {
     "base_uri": "https://localhost:8080/"
    },
    "id": "m6Dh_cnDhGpX",
    "outputId": "4a152c29-148e-4db7-fe3d-93b44b8a977d"
   },
   "outputs": [
    {
     "name": "stdout",
     "output_type": "stream",
     "text": [
      "[3, 4, 5]\n"
     ]
    }
   ],
   "source": [
    "lista_orig = [1,2,3,4,5]\n",
    "new_lc = [x for x in lista_orig if x > 2]\n",
    "print(new_lc)"
   ]
  },
  {
   "cell_type": "code",
   "execution_count": 64,
   "metadata": {
    "ExecuteTime": {
     "end_time": "2020-06-03T14:52:05.976206Z",
     "start_time": "2020-06-03T14:52:05.971216Z"
    },
    "colab": {
     "base_uri": "https://localhost:8080/"
    },
    "id": "zFIsYhvshGpX",
    "outputId": "2cca29a1-892e-4cc3-e851-e23241605e62"
   },
   "outputs": [
    {
     "name": "stdout",
     "output_type": "stream",
     "text": [
      "[0, 4, 16, 36, 64]\n"
     ]
    }
   ],
   "source": [
    "new_list = []\n",
    "\n",
    "for item in range(10):\n",
    "  \n",
    "    if item % 2 == 0:\n",
    "        new_list.append(item ** 2)\n",
    "        \n",
    "print(new_list)"
   ]
  },
  {
   "cell_type": "code",
   "execution_count": 65,
   "metadata": {
    "ExecuteTime": {
     "end_time": "2020-06-03T14:53:07.801931Z",
     "start_time": "2020-06-03T14:53:07.796944Z"
    },
    "colab": {
     "base_uri": "https://localhost:8080/"
    },
    "id": "hZWUnnvlhGpY",
    "outputId": "a33c5c58-ac60-43fb-df00-f2792dbe9312"
   },
   "outputs": [
    {
     "name": "stdout",
     "output_type": "stream",
     "text": [
      "[0, 4, 16, 36, 64]\n"
     ]
    }
   ],
   "source": [
    "new_lc = [x ** 2 for x in range(10) if x % 2 == 0]\n",
    "print(new_lc)"
   ]
  },
  {
   "cell_type": "code",
   "execution_count": 70,
   "metadata": {
    "colab": {
     "base_uri": "https://localhost:8080/"
    },
    "id": "tWZu8xjIhGpY",
    "outputId": "208cfa7e-24a1-488b-a021-8d93314c33cb"
   },
   "outputs": [
    {
     "name": "stdout",
     "output_type": "stream",
     "text": [
      "[0, 1, 36, 49, 64, 81]\n"
     ]
    }
   ],
   "source": [
    "new_lc = [quadrado(x) for x in range(10) if x > 5 or x < 2]\n",
    "print(new_lc)"
   ]
  },
  {
   "cell_type": "code",
   "execution_count": 69,
   "metadata": {
    "id": "d5Qt43MGw_Kl"
   },
   "outputs": [],
   "source": [
    "# BACK @ 15H28!"
   ]
  },
  {
   "cell_type": "markdown",
   "metadata": {
    "id": "vV2r00jlhGpY"
   },
   "source": [
    "## NesteD `for` loops"
   ]
  },
  {
   "cell_type": "code",
   "execution_count": 71,
   "metadata": {
    "ExecuteTime": {
     "end_time": "2020-06-03T15:09:43.009113Z",
     "start_time": "2020-06-03T15:09:43.005124Z"
    },
    "colab": {
     "base_uri": "https://localhost:8080/"
    },
    "id": "wZCOngCWhGpY",
    "outputId": "cb9e518b-b608-4ae5-f8d4-543d9116f464"
   },
   "outputs": [
    {
     "name": "stdout",
     "output_type": "stream",
     "text": [
      "[6, 7, 8, 6, 8]\n"
     ]
    }
   ],
   "source": [
    "list_of_lists = [[1,2,3,4], [5,6,7,8], [1,3,6,8]]\n",
    "my_results = []\n",
    "\n",
    "for lista in list_of_lists:\n",
    "    for item in lista:\n",
    "        if item > 5:    \n",
    "            my_results.append(item)\n",
    "#\n",
    "print(my_results)"
   ]
  },
  {
   "cell_type": "code",
   "execution_count": 72,
   "metadata": {
    "id": "qF6cHYtThGpY"
   },
   "outputs": [],
   "source": [
    "new_lc = [\n",
    "    item\n",
    "    for lista in list_of_lists\n",
    "    for item in lista \n",
    "    if item > 5\n",
    "    ]"
   ]
  },
  {
   "cell_type": "code",
   "execution_count": 73,
   "metadata": {
    "colab": {
     "base_uri": "https://localhost:8080/"
    },
    "id": "65RpXosUhGpZ",
    "outputId": "e4000259-3acc-4160-e603-3c32c0681b92"
   },
   "outputs": [
    {
     "name": "stdout",
     "output_type": "stream",
     "text": [
      "[6, 7, 8, 6, 8]\n"
     ]
    }
   ],
   "source": [
    "print(new_lc)"
   ]
  },
  {
   "cell_type": "code",
   "execution_count": 76,
   "metadata": {
    "colab": {
     "base_uri": "https://localhost:8080/"
    },
    "id": "wQE3ND0GhGpZ",
    "outputId": "20b96dba-52c9-4a04-afb3-0aaf33f936bd"
   },
   "outputs": [
    {
     "name": "stdout",
     "output_type": "stream",
     "text": [
      "[9, 10, 100]\n"
     ]
    }
   ],
   "source": [
    "list_of_lists = [[1,2,3,4], [5,6,7,8], [1,3,6,8], [9, 10], [100]]\n",
    "new_lc = [item for lista in list_of_lists for item in lista  if item > 5 and len(lista) < 3 ]\n",
    "print(new_lc)"
   ]
  },
  {
   "cell_type": "code",
   "execution_count": 81,
   "metadata": {
    "colab": {
     "base_uri": "https://localhost:8080/"
    },
    "id": "yWZr9QqZ0Ayz",
    "outputId": "3d2add05-dce1-4c53-ac50-060d57d91f5d"
   },
   "outputs": [
    {
     "data": {
      "text/plain": [
       "1"
      ]
     },
     "execution_count": 81,
     "metadata": {},
     "output_type": "execute_result"
    }
   ],
   "source": [
    "[[[1,2,3], [1,2,3]], [[4,5,6], [4,5,6]]][0][0][0]"
   ]
  },
  {
   "cell_type": "code",
   "execution_count": 82,
   "metadata": {
    "colab": {
     "base_uri": "https://localhost:8080/"
    },
    "id": "WjvvFUSYzxaL",
    "outputId": "97d7883e-91dd-49e1-cd62-c9248d300fab"
   },
   "outputs": [
    {
     "name": "stdout",
     "output_type": "stream",
     "text": [
      "[1, 1, 4, 4]\n"
     ]
    }
   ],
   "source": [
    "list_of_lists_of_lists = [[[1,2,3], [1,2,3]], [[4,5,6], [4,5,6]]]\n",
    "new_lc = [lista[0] for lista_of_lists in list_of_lists_of_lists for lista in lista_of_lists]\n",
    "print(new_lc)"
   ]
  },
  {
   "cell_type": "markdown",
   "metadata": {
    "id": "CWyyHbA6hGpa"
   },
   "source": [
    "## Conditional Application/Return"
   ]
  },
  {
   "cell_type": "code",
   "execution_count": 83,
   "metadata": {
    "id": "Hv_QZ4AK0Xx9"
   },
   "outputs": [],
   "source": [
    "lista_ex = [1,2,3,4,5,6,7,8,9]"
   ]
  },
  {
   "cell_type": "code",
   "execution_count": 85,
   "metadata": {
    "ExecuteTime": {
     "end_time": "2020-06-03T15:11:55.148634Z",
     "start_time": "2020-06-03T15:11:55.142650Z"
    },
    "colab": {
     "base_uri": "https://localhost:8080/"
    },
    "id": "ltJaEAgphGpa",
    "outputId": "cc789074-f6a1-4d84-a0a2-77ca354c19ec"
   },
   "outputs": [
    {
     "name": "stdout",
     "output_type": "stream",
     "text": [
      "[1, 2, 3, 4, 5, 6, 7, 8, 9]\n",
      "['Smaller than five', 'Smaller than five', 'Smaller than five', 'Smaller than five', 'Greater than or equal to five', 'Greater than or equal to five', 'Greater than or equal to five', 'Greater than or equal to five', 'Greater than or equal to five']\n"
     ]
    }
   ],
   "source": [
    "lista_ex = [1,2,3,4,5,6,7,8,9]\n",
    "lst = []\n",
    "\n",
    "for item in lista_ex:\n",
    "\n",
    "    if item < 5:\n",
    "        lst.append('Smaller than five')\n",
    "    else:\n",
    "        lst.append('Greater than or equal to five')\n",
    "print(lista_ex)\n",
    "print(lst)"
   ]
  },
  {
   "cell_type": "code",
   "execution_count": null,
   "metadata": {
    "id": "q4V8836x0XV6"
   },
   "outputs": [],
   "source": []
  },
  {
   "cell_type": "code",
   "execution_count": 86,
   "metadata": {
    "ExecuteTime": {
     "end_time": "2020-06-03T15:12:45.198991Z",
     "start_time": "2020-06-03T15:12:45.194006Z"
    },
    "colab": {
     "base_uri": "https://localhost:8080/"
    },
    "id": "34--zDtohGpa",
    "outputId": "1d218bd2-785a-4b21-846c-1891ba335106"
   },
   "outputs": [
    {
     "name": "stdout",
     "output_type": "stream",
     "text": [
      "[1, 2, 3, 4, 5, 6, 7, 8, 9]\n",
      "[0, 0, 0, 0, 1, 1, 1, 1, 1]\n"
     ]
    }
   ],
   "source": [
    "new_lc = [\n",
    "    0 if i < 5 \n",
    "    else 1 \n",
    "    for i in lista_ex\n",
    "    ]\n",
    "    \n",
    "print(lista_ex)\n",
    "print(new_lc)"
   ]
  },
  {
   "cell_type": "code",
   "execution_count": 90,
   "metadata": {
    "colab": {
     "base_uri": "https://localhost:8080/"
    },
    "id": "NKOsqlEy1CV8",
    "outputId": "e4fd3aad-b838-47d3-8962-09f84a8a84eb"
   },
   "outputs": [
    {
     "data": {
      "text/plain": [
       "[0, 0, 0, 0, 1, 1, 1, 1, 1]"
      ]
     },
     "execution_count": 90,
     "metadata": {},
     "output_type": "execute_result"
    }
   ],
   "source": [
    "new_lc = [0 if i < 5 else 1 for i in lista_ex]\n",
    "new_lc"
   ]
  },
  {
   "cell_type": "markdown",
   "metadata": {
    "id": "z2gN6bwIhGpb"
   },
   "source": [
    "## Multiple Assignment in `comprehensions`"
   ]
  },
  {
   "cell_type": "code",
   "execution_count": 91,
   "metadata": {
    "colab": {
     "base_uri": "https://localhost:8080/"
    },
    "id": "e-Se9O8Y1g7M",
    "outputId": "bbee3293-9e64-4f9e-a05e-800e8e93aeea"
   },
   "outputs": [
    {
     "name": "stdout",
     "output_type": "stream",
     "text": [
      "1 2\n"
     ]
    }
   ],
   "source": [
    "a, b = (1, 2)\n",
    "print(a, b)"
   ]
  },
  {
   "cell_type": "code",
   "execution_count": 93,
   "metadata": {
    "colab": {
     "base_uri": "https://localhost:8080/"
    },
    "id": "3PN1hcCk1kBj",
    "outputId": "244a1506-2dff-488d-efd4-c20ef1975cb1"
   },
   "outputs": [
    {
     "data": {
      "text/plain": [
       "[38, 36, 48, 30]"
      ]
     },
     "execution_count": 93,
     "metadata": {},
     "output_type": "execute_result"
    }
   ],
   "source": [
    "list_of_uples = [(19, 2), (12, 3), (12, 4), (15, 2)]\n",
    "lista_vazia = []\n",
    "for x, y in list_of_uples:\n",
    "  lista_vazia.append(x * y)\n",
    "\n",
    "lista_vazia"
   ]
  },
  {
   "cell_type": "code",
   "execution_count": 94,
   "metadata": {
    "colab": {
     "base_uri": "https://localhost:8080/"
    },
    "id": "_9_p6brihGpb",
    "outputId": "87a906eb-dc6b-4d74-cfb6-5abd4c6874a0"
   },
   "outputs": [
    {
     "name": "stdout",
     "output_type": "stream",
     "text": [
      "[361, 1728, 20736, 225]\n"
     ]
    }
   ],
   "source": [
    "lista_uplas = [(19, 2), (12, 3), (12, 4), (15, 2)]\n",
    "lista_vazia = []\n",
    "\n",
    "for x, y in lista_uplas:\n",
    "    lista_vazia.append(x ** y)\n",
    "\n",
    "print(lista_vazia)"
   ]
  },
  {
   "cell_type": "code",
   "execution_count": 97,
   "metadata": {
    "colab": {
     "base_uri": "https://localhost:8080/"
    },
    "id": "0XS6FwvxhGpb",
    "outputId": "d66ec31c-e081-41c5-d728-05afea1c7acd"
   },
   "outputs": [
    {
     "name": "stdout",
     "output_type": "stream",
     "text": [
      "[[361, 21, 38], [1728, 15, 36], [20736, 16, 48], [225, 17, 30]]\n"
     ]
    }
   ],
   "source": [
    "lista_uplas = [(19, 2), (12, 3), (12, 4), (15, 2)]\n",
    "\n",
    "new_lc = [[x ** y, x + y, x * y] for x, y in lista_uplas]\n",
    "print(new_lc)"
   ]
  },
  {
   "cell_type": "markdown",
   "metadata": {
    "id": "f7NDOJmahGpb"
   },
   "source": [
    "# Aplications"
   ]
  },
  {
   "cell_type": "markdown",
   "metadata": {
    "id": "YeY4y9nmhGpb"
   },
   "source": [
    "## Reading files conditionally"
   ]
  },
  {
   "cell_type": "code",
   "execution_count": null,
   "metadata": {},
   "outputs": [],
   "source": [
    "import os"
   ]
  },
  {
   "cell_type": "code",
   "execution_count": 3,
   "metadata": {},
   "outputs": [
    {
     "data": {
      "text/plain": [
       "['.DS_Store',\n",
       " 'knn.png',\n",
       " 'PLS.png',\n",
       " 'boosting.png',\n",
       " 'sample_1.csv',\n",
       " 'sample_2.csv',\n",
       " 'ensemble.png',\n",
       " 'sample_3.csv',\n",
       " 'sample_2.txt',\n",
       " 'sample_3.txt',\n",
       " 'sample_1.txt']"
      ]
     },
     "execution_count": 3,
     "metadata": {},
     "output_type": "execute_result"
    }
   ],
   "source": [
    "os.listdir('arquivos/')"
   ]
  },
  {
   "cell_type": "code",
   "execution_count": 2,
   "metadata": {
    "ExecuteTime": {
     "end_time": "2020-06-03T15:13:51.770836Z",
     "start_time": "2020-06-03T15:13:51.765850Z"
    },
    "id": "MuExs9k4hGpb"
   },
   "outputs": [
    {
     "name": "stdout",
     "output_type": "stream",
     "text": [
      "['.DS_Store', 'knn.png', 'PLS.png', 'boosting.png', 'sample_1.csv', 'sample_2.csv', 'ensemble.png', 'sample_3.csv', 'sample_2.txt', 'sample_3.txt', 'sample_1.txt']\n"
     ]
    }
   ],
   "source": [
    "\n",
    "lista_arquivos = os.listdir('arquivos/')\n",
    "print(lista_arquivos)"
   ]
  },
  {
   "cell_type": "markdown",
   "metadata": {
    "id": "Gah94QeFhGpc"
   },
   "source": [
    "### Loop Solution"
   ]
  },
  {
   "cell_type": "code",
   "execution_count": null,
   "metadata": {
    "id": "J2p-93Z-hGpc"
   },
   "outputs": [],
   "source": [
    "lista_csv = []\n",
    "for file in lista_arquivos:\n",
    "    if file.endswith('csv'):\n",
    "        lista_csv.append(file)\n",
    "\n",
    "print(lista_csv)"
   ]
  },
  {
   "cell_type": "markdown",
   "metadata": {
    "id": "EUJHd1o4hGpc"
   },
   "source": [
    "### List Comprehension"
   ]
  },
  {
   "cell_type": "code",
   "execution_count": null,
   "metadata": {
    "id": "ZYqnQFozhGpc"
   },
   "outputs": [],
   "source": [
    "lista_csv = [file for file in lista_arquivos if file.lower().endswith('csv')]\n",
    "print(lista_csv)"
   ]
  }
 ],
 "metadata": {
  "colab": {
   "provenance": []
  },
  "kernelspec": {
   "display_name": "Python 3 (ipykernel)",
   "language": "python",
   "name": "python3"
  },
  "language_info": {
   "codemirror_mode": {
    "name": "ipython",
    "version": 3
   },
   "file_extension": ".py",
   "mimetype": "text/x-python",
   "name": "python",
   "nbconvert_exporter": "python",
   "pygments_lexer": "ipython3",
   "version": "3.9.12"
  },
  "toc": {
   "base_numbering": 1,
   "nav_menu": {},
   "number_sections": true,
   "sideBar": true,
   "skip_h1_title": false,
   "title_cell": "Table of Contents",
   "title_sidebar": "Contents",
   "toc_cell": false,
   "toc_position": {},
   "toc_section_display": true,
   "toc_window_display": false
  },
  "varInspector": {
   "cols": {
    "lenName": 16,
    "lenType": 16,
    "lenVar": 40
   },
   "kernels_config": {
    "python": {
     "delete_cmd_postfix": "",
     "delete_cmd_prefix": "del ",
     "library": "var_list.py",
     "varRefreshCmd": "print(var_dic_list())"
    },
    "r": {
     "delete_cmd_postfix": ") ",
     "delete_cmd_prefix": "rm(",
     "library": "var_list.r",
     "varRefreshCmd": "cat(var_dic_list()) "
    }
   },
   "types_to_exclude": [
    "module",
    "function",
    "builtin_function_or_method",
    "instance",
    "_Feature"
   ],
   "window_display": false
  },
  "vscode": {
   "interpreter": {
    "hash": "014f4a4a5af8f0104b12c029e500f4146d6d785e8cf714d2a35b7a9514230cd3"
   }
  }
 },
 "nbformat": 4,
 "nbformat_minor": 1
}
