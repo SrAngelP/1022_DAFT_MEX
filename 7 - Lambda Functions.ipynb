{
  "cells": [
    {
      "cell_type": "code",
      "execution_count": null,
      "metadata": {
        "ExecuteTime": {
          "end_time": "2020-11-02T00:56:54.511934Z",
          "start_time": "2020-11-02T00:56:47.853425Z"
        },
        "id": "_WCh000xWQqQ"
      },
      "outputs": [],
      "source": [
        "import re"
      ]
    },
    {
      "cell_type": "markdown",
      "metadata": {
        "id": "gVbTujR4WQqS"
      },
      "source": [
        "# Functional Programming - Anonymous Functions"
      ]
    },
    {
      "cell_type": "code",
      "execution_count": null,
      "metadata": {
        "ExecuteTime": {
          "end_time": "2022-01-04T22:42:04.157839Z",
          "start_time": "2022-01-04T22:42:04.149860Z"
        },
        "scrolled": true,
        "id": "24io3vpgWQqT"
      },
      "outputs": [],
      "source": [
        "def nome_da_funcao(a, b = 10):\n",
        "    '''\n",
        "    Esta função retorna a soma do argumento_obrigatorio ao argumento_opcional.\n",
        "    Argumentos:\n",
        "        argumento_obrigatorio Float\n",
        "        argumento_opcional Float\n",
        "    Returns:\n",
        "        Float\n",
        "    '''\n",
        "    soma = a + b\n",
        "    return soma"
      ]
    },
    {
      "cell_type": "code",
      "execution_count": null,
      "metadata": {
        "ExecuteTime": {
          "end_time": "2022-01-04T22:42:07.791815Z",
          "start_time": "2022-01-04T22:42:07.782839Z"
        },
        "id": "iQBDYXecWQqT"
      },
      "outputs": [],
      "source": [
        "print(nome_da_funcao(5))"
      ]
    },
    {
      "cell_type": "code",
      "execution_count": null,
      "metadata": {
        "id": "OUjfdGJVWQqU"
      },
      "outputs": [],
      "source": [
        "dois_cinco = nome_da_funcao(2, 5)\n",
        "print(dois_cinco)"
      ]
    },
    {
      "cell_type": "markdown",
      "metadata": {
        "id": "pLBEpUOFWQqU"
      },
      "source": [
        "# Anonymous Functions\n",
        "\n",
        "https://realpython.com/python-lambda/\n",
        "\n",
        "\n",
        "## Defining `lambda` functions\n"
      ]
    },
    {
      "cell_type": "code",
      "execution_count": null,
      "metadata": {
        "ExecuteTime": {
          "end_time": "2022-01-04T22:45:33.185839Z",
          "start_time": "2022-01-04T22:45:33.178859Z"
        },
        "id": "bOFeMjrUWQqU"
      },
      "outputs": [],
      "source": [
        "def div_2(x):\n",
        "    return x/2"
      ]
    },
    {
      "cell_type": "code",
      "execution_count": null,
      "metadata": {
        "ExecuteTime": {
          "end_time": "2022-01-04T22:45:38.682879Z",
          "start_time": "2022-01-04T22:45:38.668917Z"
        },
        "id": "4-3fij3tWQqU"
      },
      "outputs": [],
      "source": [
        "div_2(4)"
      ]
    },
    {
      "cell_type": "code",
      "execution_count": null,
      "metadata": {
        "ExecuteTime": {
          "end_time": "2022-01-04T22:46:44.888966Z",
          "start_time": "2022-01-04T22:46:44.876000Z"
        },
        "id": "IdTTmPr2WQqU"
      },
      "outputs": [],
      "source": [
        "lambda x: x/2"
      ]
    },
    {
      "cell_type": "markdown",
      "metadata": {
        "id": "b59mOfDiWQqV"
      },
      "source": [
        "## Calling Lambda Functions\n",
        "\n",
        "### Direct calling\n"
      ]
    },
    {
      "cell_type": "code",
      "execution_count": null,
      "metadata": {
        "ExecuteTime": {
          "end_time": "2022-01-04T22:47:30.814854Z",
          "start_time": "2022-01-04T22:47:30.808870Z"
        },
        "id": "WoJ4yMoGWQqV"
      },
      "outputs": [],
      "source": [
        "(lambda x: x+10) (10)"
      ]
    },
    {
      "cell_type": "markdown",
      "metadata": {
        "id": "Gsp-D-MhWQqV"
      },
      "source": [
        "### Storing in a *variable*"
      ]
    },
    {
      "cell_type": "code",
      "execution_count": null,
      "metadata": {
        "ExecuteTime": {
          "end_time": "2022-01-04T22:49:35.387793Z",
          "start_time": "2022-01-04T22:49:35.380809Z"
        },
        "id": "3yq49QBaWQqV"
      },
      "outputs": [],
      "source": [
        "soma_10 = lambda x: x + 10"
      ]
    },
    {
      "cell_type": "code",
      "execution_count": null,
      "metadata": {
        "ExecuteTime": {
          "end_time": "2022-01-04T22:49:35.928938Z",
          "start_time": "2022-01-04T22:49:35.911987Z"
        },
        "id": "_Ac5Os-YWQqV"
      },
      "outputs": [],
      "source": [
        "soma_10(5)"
      ]
    },
    {
      "cell_type": "markdown",
      "metadata": {
        "id": "ItDwatBJWQqW"
      },
      "source": [
        "### Dynamical definition/calling"
      ]
    },
    {
      "cell_type": "code",
      "execution_count": null,
      "metadata": {
        "id": "Rtq7XyNzWQqW"
      },
      "outputs": [],
      "source": [
        "def create_sum(a):\n",
        "    return lambda x: x + a"
      ]
    },
    {
      "cell_type": "code",
      "execution_count": null,
      "metadata": {
        "id": "0DCMn-DPWQqW"
      },
      "outputs": [],
      "source": [
        "function_list = [create_sum(i) for i in range(10)]"
      ]
    },
    {
      "cell_type": "code",
      "execution_count": null,
      "metadata": {
        "id": "fT7Wl7ydWQqW"
      },
      "outputs": [],
      "source": [
        "for func in function_list:\n",
        "    print(func(10))\n"
      ]
    },
    {
      "cell_type": "markdown",
      "metadata": {
        "id": "b_GhnIrDWQqX"
      },
      "source": [
        "## Lambda Functions with Multiple Arguments"
      ]
    },
    {
      "cell_type": "code",
      "execution_count": null,
      "metadata": {
        "ExecuteTime": {
          "end_time": "2022-01-04T23:10:05.644779Z",
          "start_time": "2022-01-04T23:10:05.626829Z"
        },
        "id": "aTCu7hn3WQqX"
      },
      "outputs": [],
      "source": [
        "(lambda x, y: x + y) (10, 5)"
      ]
    },
    {
      "cell_type": "code",
      "execution_count": null,
      "metadata": {
        "id": "bIdgm1VlWQqX"
      },
      "outputs": [],
      "source": [
        "soma_lambda = lambda x, y: x + y\n",
        "print(soma_lambda(10, 5))"
      ]
    },
    {
      "cell_type": "markdown",
      "metadata": {
        "id": "NyGypDaiWQqX"
      },
      "source": [
        "## Conditional Lambda Functions"
      ]
    },
    {
      "cell_type": "code",
      "execution_count": null,
      "metadata": {
        "id": "l0WUQHaGWQqX"
      },
      "outputs": [],
      "source": [
        "lista_num = [0, 1, 4, 5, 6, 10, 14, 15]"
      ]
    },
    {
      "cell_type": "code",
      "execution_count": null,
      "metadata": {
        "id": "7OgTEudUWQqX"
      },
      "outputs": [],
      "source": [
        "lista_par = [x for x in lista_num if x % 2 == 0]\n",
        "print(lista_par)"
      ]
    },
    {
      "cell_type": "code",
      "execution_count": null,
      "metadata": {
        "id": "bbT4g0eyWQqY"
      },
      "outputs": [],
      "source": [
        "e_par = lambda x: 1 if x % 2 == 0 else 0"
      ]
    },
    {
      "cell_type": "code",
      "execution_count": null,
      "metadata": {
        "id": "R316ESutWQqY"
      },
      "outputs": [],
      "source": [
        "e_par(2)"
      ]
    },
    {
      "cell_type": "code",
      "execution_count": null,
      "metadata": {
        "id": "wgK6SXXuWQqY"
      },
      "outputs": [],
      "source": [
        "lista_div = [10/x for x in lista_num if x != 0]\n",
        "print(lista_div)"
      ]
    },
    {
      "cell_type": "code",
      "execution_count": null,
      "metadata": {
        "ExecuteTime": {
          "end_time": "2022-01-04T23:19:47.468755Z",
          "start_time": "2022-01-04T23:19:47.455206Z"
        },
        "id": "F_loMoCiWQqY"
      },
      "outputs": [],
      "source": [
        "safe_div = lambda x: 1/x if x != 0 else None"
      ]
    },
    {
      "cell_type": "code",
      "execution_count": null,
      "metadata": {
        "ExecuteTime": {
          "end_time": "2022-01-04T23:19:49.838762Z",
          "start_time": "2022-01-04T23:19:49.824801Z"
        },
        "id": "GbGQwdn3WQqY"
      },
      "outputs": [],
      "source": [
        "safe_div(0)"
      ]
    },
    {
      "cell_type": "markdown",
      "metadata": {
        "id": "-3g_ZHdxWQqY"
      },
      "source": [
        "# Lambda Functions for Sorting"
      ]
    },
    {
      "cell_type": "code",
      "execution_count": null,
      "metadata": {
        "id": "zhvls_GiWQqY"
      },
      "outputs": [],
      "source": [
        "simple_list = [1, -5, 12, 23]"
      ]
    },
    {
      "cell_type": "code",
      "execution_count": null,
      "metadata": {
        "id": "7_cLP2s1WQqY"
      },
      "outputs": [],
      "source": [
        "sorted(simple_list)"
      ]
    },
    {
      "cell_type": "code",
      "execution_count": null,
      "metadata": {
        "id": "xhLIZLOiWQqZ"
      },
      "outputs": [],
      "source": [
        "sorted(simple_list, key = lambda x: x ** 2)"
      ]
    },
    {
      "cell_type": "code",
      "execution_count": null,
      "metadata": {
        "id": "K5eza2LzWQqZ"
      },
      "outputs": [],
      "source": [
        "list_uples = [(10, 20), (15, 9), (21, -25), (37, 58)]"
      ]
    },
    {
      "cell_type": "code",
      "execution_count": null,
      "metadata": {
        "id": "0npksEwWWQqZ"
      },
      "outputs": [],
      "source": [
        "sorted(list_uples, key = lambda x: x[1])"
      ]
    },
    {
      "cell_type": "markdown",
      "metadata": {
        "id": "qNtqqYKxWQqa"
      },
      "source": [
        "# Applying functions"
      ]
    },
    {
      "cell_type": "code",
      "execution_count": null,
      "metadata": {
        "id": "NF3d1T0tWQqa"
      },
      "outputs": [],
      "source": [
        "def my_apply(lst, my_lambda):\n",
        "    results = []\n",
        "    for element in lst:\n",
        "        results.append(my_lambda(element))\n",
        "    return results"
      ]
    },
    {
      "cell_type": "code",
      "execution_count": null,
      "metadata": {
        "id": "r8w6Pi6QWQqa"
      },
      "outputs": [],
      "source": [
        "lista_num = [1, 25, -13, 29, 47]\n",
        "\n",
        "my_apply(lista_num, lambda x: x ** 2)"
      ]
    }
  ],
  "metadata": {
    "hide_input": false,
    "kernelspec": {
      "display_name": "Python 3.9.11 ('base')",
      "language": "python",
      "name": "python3"
    },
    "language_info": {
      "codemirror_mode": {
        "name": "ipython",
        "version": 3
      },
      "file_extension": ".py",
      "mimetype": "text/x-python",
      "name": "python",
      "nbconvert_exporter": "python",
      "pygments_lexer": "ipython3",
      "version": "3.9.11"
    },
    "toc": {
      "base_numbering": 1,
      "nav_menu": {},
      "number_sections": true,
      "sideBar": true,
      "skip_h1_title": false,
      "title_cell": "Table of Contents",
      "title_sidebar": "Contents",
      "toc_cell": false,
      "toc_position": {},
      "toc_section_display": true,
      "toc_window_display": false
    },
    "varInspector": {
      "cols": {
        "lenName": 16,
        "lenType": 16,
        "lenVar": 40
      },
      "kernels_config": {
        "python": {
          "delete_cmd_postfix": "",
          "delete_cmd_prefix": "del ",
          "library": "var_list.py",
          "varRefreshCmd": "print(var_dic_list())"
        },
        "r": {
          "delete_cmd_postfix": ") ",
          "delete_cmd_prefix": "rm(",
          "library": "var_list.r",
          "varRefreshCmd": "cat(var_dic_list()) "
        }
      },
      "types_to_exclude": [
        "module",
        "function",
        "builtin_function_or_method",
        "instance",
        "_Feature"
      ],
      "window_display": false
    },
    "vscode": {
      "interpreter": {
        "hash": "014f4a4a5af8f0104b12c029e500f4146d6d785e8cf714d2a35b7a9514230cd3"
      }
    },
    "colab": {
      "provenance": []
    }
  },
  "nbformat": 4,
  "nbformat_minor": 0
}