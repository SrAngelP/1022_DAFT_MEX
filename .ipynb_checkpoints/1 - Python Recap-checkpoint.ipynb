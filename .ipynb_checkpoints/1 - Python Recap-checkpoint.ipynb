{
 "cells": [
  {
   "cell_type": "markdown",
   "id": "3f5128b9",
   "metadata": {
    "id": "3f5128b9"
   },
   "source": [
    "![Atalhos%20Jupyter.jpg](https://i.pinimg.com/originals/19/8f/d6/198fd6fc321dff3a4ea799d4fba61b97.jpg)"
   ]
  },
  {
   "cell_type": "markdown",
   "id": "03a1ac24",
   "metadata": {
    "id": "03a1ac24"
   },
   "source": [
    "# Python Recap\n",
    "Let's start by reviewing some concepts we saw during the pre-work.\n",
    "\n",
    "## Types (Data Structures)\n",
    "Through the bootcamp we will handle different types of information: words, numbers, sets, list, etc... These structures are called **types**. Today we will review the basic types of data structures **strings**, **booleans**, **integers**, **floats** e **lists**.\n",
    "\n",
    "### Strings (str)\n",
    "Strings, called `str` in Python, are **sequences of characters** - usually thought of as *words*."
   ]
  },
  {
   "cell_type": "code",
   "execution_count": 3,
   "id": "0ac0ade0",
   "metadata": {
    "colab": {
     "base_uri": "https://localhost:8080/"
    },
    "id": "0ac0ade0",
    "outputId": "d201d2de-e035-476b-9c4d-f3a1e94c5609"
   },
   "outputs": [
    {
     "name": "stdout",
     "output_type": "stream",
     "text": [
      "ABC\n"
     ]
    }
   ],
   "source": [
    "print(\"ABC\")"
   ]
  },
  {
   "cell_type": "code",
   "execution_count": 2,
   "id": "14308b7c",
   "metadata": {
    "colab": {
     "base_uri": "https://localhost:8080/"
    },
    "id": "14308b7c",
    "outputId": "68dace2b-ccc5-4c30-811a-4b2ceb242823"
   },
   "outputs": [
    {
     "data": {
      "text/plain": [
       "str"
      ]
     },
     "execution_count": 2,
     "metadata": {},
     "output_type": "execute_result"
    }
   ],
   "source": [
    "type('ABC')"
   ]
  },
  {
   "cell_type": "code",
   "execution_count": 4,
   "id": "c189c224",
   "metadata": {
    "colab": {
     "base_uri": "https://localhost:8080/"
    },
    "id": "c189c224",
    "outputId": "3fc6c237-b357-45ab-b978-98ba6fad027a"
   },
   "outputs": [
    {
     "name": "stdout",
     "output_type": "stream",
     "text": [
      "1\n"
     ]
    }
   ],
   "source": [
    "print('1')"
   ]
  },
  {
   "cell_type": "code",
   "execution_count": 5,
   "id": "436295de",
   "metadata": {
    "colab": {
     "base_uri": "https://localhost:8080/"
    },
    "id": "436295de",
    "outputId": "4d019a4c-086b-41c6-b89f-bfe54bb9a696"
   },
   "outputs": [
    {
     "data": {
      "text/plain": [
       "str"
      ]
     },
     "execution_count": 5,
     "metadata": {},
     "output_type": "execute_result"
    }
   ],
   "source": [
    "type('1')"
   ]
  },
  {
   "cell_type": "markdown",
   "id": "feff9c98",
   "metadata": {
    "id": "feff9c98"
   },
   "source": [
    "### Booleans (bool)\n",
    "Boolean values, called `bool`, are logical data which can only have two different values: `True` e `False`"
   ]
  },
  {
   "cell_type": "code",
   "execution_count": 6,
   "id": "00d9e635",
   "metadata": {
    "colab": {
     "base_uri": "https://localhost:8080/"
    },
    "id": "00d9e635",
    "outputId": "49291664-9458-4578-d854-a6047dae8fe8"
   },
   "outputs": [
    {
     "name": "stdout",
     "output_type": "stream",
     "text": [
      "True\n"
     ]
    }
   ],
   "source": [
    "print(True)"
   ]
  },
  {
   "cell_type": "code",
   "execution_count": 7,
   "id": "fac9f60c",
   "metadata": {
    "colab": {
     "base_uri": "https://localhost:8080/"
    },
    "id": "fac9f60c",
    "outputId": "63abe216-bbfb-4f84-ce45-d504b0079a10"
   },
   "outputs": [
    {
     "data": {
      "text/plain": [
       "bool"
      ]
     },
     "execution_count": 7,
     "metadata": {},
     "output_type": "execute_result"
    }
   ],
   "source": [
    "type(True)"
   ]
  },
  {
   "cell_type": "code",
   "execution_count": 8,
   "id": "8909fa65",
   "metadata": {
    "colab": {
     "base_uri": "https://localhost:8080/"
    },
    "id": "8909fa65",
    "outputId": "2eee2cde-1339-44bd-e515-79d563c60182"
   },
   "outputs": [
    {
     "name": "stdout",
     "output_type": "stream",
     "text": [
      "False\n"
     ]
    }
   ],
   "source": [
    "print(False)"
   ]
  },
  {
   "cell_type": "code",
   "execution_count": 11,
   "id": "0794f3f3",
   "metadata": {
    "colab": {
     "base_uri": "https://localhost:8080/"
    },
    "id": "0794f3f3",
    "outputId": "de477b3b-4104-4163-bcea-14a032df3fef"
   },
   "outputs": [
    {
     "data": {
      "text/plain": [
       "bool"
      ]
     },
     "execution_count": 11,
     "metadata": {},
     "output_type": "execute_result"
    }
   ],
   "source": [
    "type(False)"
   ]
  },
  {
   "cell_type": "markdown",
   "id": "8e5d11fb",
   "metadata": {
    "id": "8e5d11fb"
   },
   "source": [
    "### Integers\n",
    "Integers, called `int` in Python, represent the *whole numbers*:"
   ]
  },
  {
   "cell_type": "code",
   "execution_count": 13,
   "id": "ddcfb805",
   "metadata": {
    "colab": {
     "base_uri": "https://localhost:8080/"
    },
    "id": "ddcfb805",
    "outputId": "42b51b5d-eb02-4dc8-dff6-3ec2a9fffadb"
   },
   "outputs": [
    {
     "name": "stdout",
     "output_type": "stream",
     "text": [
      "1\n"
     ]
    }
   ],
   "source": [
    "print(1)"
   ]
  },
  {
   "cell_type": "code",
   "execution_count": 14,
   "id": "b237fb1c",
   "metadata": {
    "colab": {
     "base_uri": "https://localhost:8080/"
    },
    "id": "b237fb1c",
    "outputId": "dfd1c738-5475-4fe9-abbe-20fa9f07103a"
   },
   "outputs": [
    {
     "data": {
      "text/plain": [
       "int"
      ]
     },
     "execution_count": 14,
     "metadata": {},
     "output_type": "execute_result"
    }
   ],
   "source": [
    "type(1)"
   ]
  },
  {
   "cell_type": "code",
   "execution_count": 15,
   "id": "1f90b69e",
   "metadata": {
    "colab": {
     "base_uri": "https://localhost:8080/"
    },
    "id": "1f90b69e",
    "outputId": "34b012ac-9a40-409e-c030-6fd101ee4e44"
   },
   "outputs": [
    {
     "data": {
      "text/plain": [
       "str"
      ]
     },
     "execution_count": 15,
     "metadata": {},
     "output_type": "execute_result"
    }
   ],
   "source": [
    "type('1')"
   ]
  },
  {
   "cell_type": "markdown",
   "id": "fec7e22e",
   "metadata": {
    "id": "fec7e22e"
   },
   "source": [
    "### Floats\n",
    "Floats, called `float`, are rational numbers of fixed precision (https://docs.python.org/3/tutorial/floatingpoint.html)."
   ]
  },
  {
   "cell_type": "code",
   "execution_count": 16,
   "id": "f102b70e",
   "metadata": {
    "colab": {
     "base_uri": "https://localhost:8080/"
    },
    "id": "f102b70e",
    "outputId": "efe2cb39-b0a8-412e-9a01-52ea62a22be8"
   },
   "outputs": [
    {
     "name": "stdout",
     "output_type": "stream",
     "text": [
      "3.2\n"
     ]
    }
   ],
   "source": [
    "print(3.2)"
   ]
  },
  {
   "cell_type": "code",
   "execution_count": 17,
   "id": "ba148403",
   "metadata": {
    "colab": {
     "base_uri": "https://localhost:8080/"
    },
    "id": "ba148403",
    "outputId": "fbd71aa9-1e75-41ee-ac0f-f9aaa420caa5"
   },
   "outputs": [
    {
     "data": {
      "text/plain": [
       "float"
      ]
     },
     "execution_count": 17,
     "metadata": {},
     "output_type": "execute_result"
    }
   ],
   "source": [
    "type(3.2)"
   ]
  },
  {
   "cell_type": "code",
   "execution_count": 18,
   "id": "7e83fbbe",
   "metadata": {
    "colab": {
     "base_uri": "https://localhost:8080/"
    },
    "id": "7e83fbbe",
    "outputId": "f70b8fd7-6812-42e5-ce87-7d736d61279c"
   },
   "outputs": [
    {
     "data": {
      "text/plain": [
       "float"
      ]
     },
     "execution_count": 18,
     "metadata": {},
     "output_type": "execute_result"
    }
   ],
   "source": [
    "type(1.)"
   ]
  },
  {
   "cell_type": "code",
   "execution_count": 19,
   "id": "NP2lRf97lJy5",
   "metadata": {
    "colab": {
     "base_uri": "https://localhost:8080/"
    },
    "id": "NP2lRf97lJy5",
    "outputId": "7b417f36-0cdc-40b7-8348-64aaacee6cfe"
   },
   "outputs": [
    {
     "data": {
      "text/plain": [
       "2.0"
      ]
     },
     "execution_count": 19,
     "metadata": {},
     "output_type": "execute_result"
    }
   ],
   "source": [
    "2/1"
   ]
  },
  {
   "cell_type": "markdown",
   "id": "c4c0e53f",
   "metadata": {
    "id": "c4c0e53f"
   },
   "source": [
    "### Lists\n",
    "\n",
    "`Lists` are the first complex data structure we will use in Python. Lists represent **ordered sequences** of elements:"
   ]
  },
  {
   "cell_type": "code",
   "execution_count": 21,
   "id": "3ae0b06e",
   "metadata": {
    "colab": {
     "base_uri": "https://localhost:8080/"
    },
    "id": "3ae0b06e",
    "outputId": "f85809ea-a2f8-4a9a-e352-e15092b696b8"
   },
   "outputs": [
    {
     "name": "stdout",
     "output_type": "stream",
     "text": [
      "[3, 2, 3]\n"
     ]
    }
   ],
   "source": [
    "print([3, 2, 3])"
   ]
  },
  {
   "cell_type": "code",
   "execution_count": 22,
   "id": "b15d5b80",
   "metadata": {
    "colab": {
     "base_uri": "https://localhost:8080/"
    },
    "id": "b15d5b80",
    "outputId": "abb68955-205c-45e8-8eac-4388d88bb6f6"
   },
   "outputs": [
    {
     "data": {
      "text/plain": [
       "list"
      ]
     },
     "execution_count": 22,
     "metadata": {},
     "output_type": "execute_result"
    }
   ],
   "source": [
    "type([1, 2, 3])"
   ]
  },
  {
   "cell_type": "markdown",
   "id": "e655b558",
   "metadata": {
    "id": "e655b558"
   },
   "source": [
    "We can access specific elements of a list using **index**, through the notation `name_of_list[index]`, where `index` is an `int`."
   ]
  },
  {
   "cell_type": "code",
   "execution_count": 23,
   "id": "4beb0e83",
   "metadata": {
    "colab": {
     "base_uri": "https://localhost:8080/"
    },
    "id": "4beb0e83",
    "outputId": "bc8d4224-9a9a-474e-81cb-ec85ad93e272"
   },
   "outputs": [
    {
     "data": {
      "text/plain": [
       "1"
      ]
     },
     "execution_count": 23,
     "metadata": {},
     "output_type": "execute_result"
    }
   ],
   "source": [
    "[1, 2, 3][0]"
   ]
  },
  {
   "cell_type": "code",
   "execution_count": 24,
   "id": "48b65f46",
   "metadata": {
    "colab": {
     "base_uri": "https://localhost:8080/"
    },
    "id": "48b65f46",
    "outputId": "6427e8c0-ca0e-4029-981d-fc47b13a5fb9"
   },
   "outputs": [
    {
     "data": {
      "text/plain": [
       "int"
      ]
     },
     "execution_count": 24,
     "metadata": {},
     "output_type": "execute_result"
    }
   ],
   "source": [
    "type([1, 2, 3][1])"
   ]
  },
  {
   "cell_type": "markdown",
   "id": "f64b4d7a",
   "metadata": {
    "id": "f64b4d7a"
   },
   "source": [
    "We can store any type of data inside a list, even other lists!"
   ]
  },
  {
   "cell_type": "code",
   "execution_count": 25,
   "id": "d3b35692",
   "metadata": {
    "colab": {
     "base_uri": "https://localhost:8080/"
    },
    "id": "d3b35692",
    "outputId": "f38aea17-5b0f-4083-fab6-73ac24ea243a"
   },
   "outputs": [
    {
     "data": {
      "text/plain": [
       "[1, 'ABC', [2, '35']]"
      ]
     },
     "execution_count": 25,
     "metadata": {},
     "output_type": "execute_result"
    }
   ],
   "source": [
    "[1, 'ABC', [2, '35']]"
   ]
  },
  {
   "cell_type": "code",
   "execution_count": 26,
   "id": "51cf18d7",
   "metadata": {
    "colab": {
     "base_uri": "https://localhost:8080/"
    },
    "id": "51cf18d7",
    "outputId": "15a2221c-cada-4ec0-99ae-9beec5ff99fe"
   },
   "outputs": [
    {
     "data": {
      "text/plain": [
       "list"
      ]
     },
     "execution_count": 26,
     "metadata": {},
     "output_type": "execute_result"
    }
   ],
   "source": [
    "type([1, 'ABC', [2, '35']])"
   ]
  },
  {
   "cell_type": "code",
   "execution_count": 27,
   "id": "27c5f4f6",
   "metadata": {
    "colab": {
     "base_uri": "https://localhost:8080/"
    },
    "id": "27c5f4f6",
    "outputId": "e80a4cf8-cabf-4501-d4d8-3210f6fc70b7"
   },
   "outputs": [
    {
     "data": {
      "text/plain": [
       "list"
      ]
     },
     "execution_count": 27,
     "metadata": {},
     "output_type": "execute_result"
    }
   ],
   "source": [
    "type([1, 'ABC', [2, '35']][2])"
   ]
  },
  {
   "cell_type": "code",
   "execution_count": 31,
   "id": "Wp8TsbpLmGnI",
   "metadata": {
    "colab": {
     "base_uri": "https://localhost:8080/",
     "height": 58
    },
    "id": "Wp8TsbpLmGnI",
    "outputId": "2dec943c-a752-40f9-d164-51150de43f5d"
   },
   "outputs": [
    {
     "data": {
      "application/vnd.google.colaboratory.intrinsic+json": {
       "type": "string"
      },
      "text/plain": [
       "'35'"
      ]
     },
     "execution_count": 31,
     "metadata": {},
     "output_type": "execute_result"
    }
   ],
   "source": [
    "[1, 'ABC', [2, ['35', 2]]][2][1][0]"
   ]
  },
  {
   "cell_type": "code",
   "execution_count": 32,
   "id": "uf8TeYl5ml0Q",
   "metadata": {
    "colab": {
     "base_uri": "https://localhost:8080/"
    },
    "id": "uf8TeYl5ml0Q",
    "outputId": "04ea375a-a0db-4b01-f2a9-9f742badbf63"
   },
   "outputs": [
    {
     "data": {
      "text/plain": [
       "[2, ['35', 2]]"
      ]
     },
     "execution_count": 32,
     "metadata": {},
     "output_type": "execute_result"
    }
   ],
   "source": [
    "[1, 'ABC', [2, ['35', 2]]][2]"
   ]
  },
  {
   "cell_type": "code",
   "execution_count": 33,
   "id": "rfzGL9YFmm2V",
   "metadata": {
    "colab": {
     "base_uri": "https://localhost:8080/"
    },
    "id": "rfzGL9YFmm2V",
    "outputId": "c58e6720-9cf5-4ff3-fdb4-0273669f7353"
   },
   "outputs": [
    {
     "data": {
      "text/plain": [
       "['35', 2]"
      ]
     },
     "execution_count": 33,
     "metadata": {},
     "output_type": "execute_result"
    }
   ],
   "source": [
    "[2, ['35', 2]][1]"
   ]
  },
  {
   "cell_type": "code",
   "execution_count": 34,
   "id": "Yf1QY0kgmpTH",
   "metadata": {
    "colab": {
     "base_uri": "https://localhost:8080/",
     "height": 58
    },
    "id": "Yf1QY0kgmpTH",
    "outputId": "773de98a-f43f-4a20-a264-3a9c9f72661d"
   },
   "outputs": [
    {
     "data": {
      "application/vnd.google.colaboratory.intrinsic+json": {
       "type": "string"
      },
      "text/plain": [
       "'35'"
      ]
     },
     "execution_count": 34,
     "metadata": {},
     "output_type": "execute_result"
    }
   ],
   "source": [
    "['35', 2][0]"
   ]
  },
  {
   "cell_type": "code",
   "execution_count": 35,
   "id": "8235a721",
   "metadata": {
    "colab": {
     "base_uri": "https://localhost:8080/",
     "height": 58
    },
    "id": "8235a721",
    "outputId": "46f364b7-4af1-43bd-fa34-2c16c4d68636"
   },
   "outputs": [
    {
     "data": {
      "application/vnd.google.colaboratory.intrinsic+json": {
       "type": "string"
      },
      "text/plain": [
       "'35'"
      ]
     },
     "execution_count": 35,
     "metadata": {},
     "output_type": "execute_result"
    }
   ],
   "source": [
    "[1, 'ABC', [2, '35']][2][1]"
   ]
  },
  {
   "cell_type": "code",
   "execution_count": 36,
   "id": "e3dc8c5a",
   "metadata": {
    "colab": {
     "base_uri": "https://localhost:8080/"
    },
    "id": "e3dc8c5a",
    "outputId": "643b3cfa-142e-4dde-da0f-3189c292d176"
   },
   "outputs": [
    {
     "data": {
      "text/plain": [
       "list"
      ]
     },
     "execution_count": 36,
     "metadata": {},
     "output_type": "execute_result"
    }
   ],
   "source": [
    "type([1, 'ABC', [2, '35']][2])"
   ]
  },
  {
   "cell_type": "code",
   "execution_count": 41,
   "id": "dNb-Sac1m28f",
   "metadata": {
    "colab": {
     "base_uri": "https://localhost:8080/",
     "height": 187
    },
    "id": "dNb-Sac1m28f",
    "outputId": "e5d4dba6-a1c4-4642-ada8-02e472d38c69"
   },
   "outputs": [
    {
     "ename": "IndexError",
     "evalue": "ignored",
     "output_type": "error",
     "traceback": [
      "\u001b[0;31m---------------------------------------------------------------------------\u001b[0m",
      "\u001b[0;31mIndexError\u001b[0m                                Traceback (most recent call last)",
      "\u001b[0;32m<ipython-input-41-4be170dfe99c>\u001b[0m in \u001b[0;36m<module>\u001b[0;34m\u001b[0m\n\u001b[0;32m----> 1\u001b[0;31m \u001b[0;34m[\u001b[0m\u001b[0;36m1\u001b[0m\u001b[0;34m,\u001b[0m\u001b[0;36m2\u001b[0m\u001b[0;34m,\u001b[0m\u001b[0;36m3\u001b[0m\u001b[0;34m]\u001b[0m\u001b[0;34m[\u001b[0m\u001b[0;36m3\u001b[0m\u001b[0;34m]\u001b[0m\u001b[0;34m\u001b[0m\u001b[0;34m\u001b[0m\u001b[0m\n\u001b[0m",
      "\u001b[0;31mIndexError\u001b[0m: list index out of range"
     ]
    }
   ],
   "source": [
    "[1,2,3][3]"
   ]
  },
  {
   "cell_type": "markdown",
   "id": "a355a994",
   "metadata": {
    "id": "a355a994"
   },
   "source": [
    "## Variables\n",
    "\n",
    "So far we've only seen how to print and represent different data types inside Python. To manipulate data we must **store** it in **variables**.\n",
    "\n",
    "We can create variables using the assignment operator: `=`."
   ]
  },
  {
   "cell_type": "code",
   "execution_count": 46,
   "id": "b160a5f7",
   "metadata": {
    "id": "b160a5f7"
   },
   "outputs": [],
   "source": [
    "x = 1"
   ]
  },
  {
   "cell_type": "code",
   "execution_count": 47,
   "id": "2833f6ec",
   "metadata": {
    "colab": {
     "base_uri": "https://localhost:8080/"
    },
    "id": "2833f6ec",
    "outputId": "8f63ea8a-e4bd-4b0c-c54a-f452cc4a46c1"
   },
   "outputs": [
    {
     "name": "stdout",
     "output_type": "stream",
     "text": [
      "1\n"
     ]
    }
   ],
   "source": [
    "print(x)"
   ]
  },
  {
   "cell_type": "code",
   "execution_count": 48,
   "id": "783117cd",
   "metadata": {
    "colab": {
     "base_uri": "https://localhost:8080/"
    },
    "id": "783117cd",
    "outputId": "de353a32-2b52-4290-976d-0f43415fb7da"
   },
   "outputs": [
    {
     "data": {
      "text/plain": [
       "int"
      ]
     },
     "execution_count": 48,
     "metadata": {},
     "output_type": "execute_result"
    }
   ],
   "source": [
    "type(x)"
   ]
  },
  {
   "cell_type": "code",
   "execution_count": 52,
   "id": "dbb23998",
   "metadata": {
    "colab": {
     "base_uri": "https://localhost:8080/"
    },
    "id": "dbb23998",
    "outputId": "33013703-f09d-4e11-97a8-5f4abd5441c8"
   },
   "outputs": [
    {
     "name": "stdout",
     "output_type": "stream",
     "text": [
      "5\n"
     ]
    }
   ],
   "source": [
    "x = x+1\n",
    "print(x)"
   ]
  },
  {
   "cell_type": "code",
   "execution_count": 53,
   "id": "pdJPnXkMogSo",
   "metadata": {
    "colab": {
     "base_uri": "https://localhost:8080/"
    },
    "id": "pdJPnXkMogSo",
    "outputId": "e99e2ff4-b1a1-4837-ec2c-ca46baa9be44"
   },
   "outputs": [
    {
     "name": "stdout",
     "output_type": "stream",
     "text": [
      "6\n"
     ]
    }
   ],
   "source": [
    "x += 1\n",
    "print(x)"
   ]
  },
  {
   "cell_type": "code",
   "execution_count": 59,
   "id": "5d771298",
   "metadata": {
    "id": "5d771298"
   },
   "outputs": [],
   "source": [
    "x = \"Pedro\""
   ]
  },
  {
   "cell_type": "code",
   "execution_count": 55,
   "id": "311498ff",
   "metadata": {
    "colab": {
     "base_uri": "https://localhost:8080/"
    },
    "id": "311498ff",
    "outputId": "cca3da08-6321-41f6-8d9f-939cc64ff95f"
   },
   "outputs": [
    {
     "name": "stdout",
     "output_type": "stream",
     "text": [
      "Pedro\n"
     ]
    }
   ],
   "source": [
    "print(x)"
   ]
  },
  {
   "cell_type": "code",
   "execution_count": 56,
   "id": "hbOE9NB-omy9",
   "metadata": {
    "id": "hbOE9NB-omy9"
   },
   "outputs": [],
   "source": [
    "x = [1,2,3]"
   ]
  },
  {
   "cell_type": "code",
   "execution_count": 60,
   "id": "4MqIzH19oops",
   "metadata": {
    "id": "4MqIzH19oops"
   },
   "outputs": [],
   "source": [
    "x = 1"
   ]
  },
  {
   "cell_type": "code",
   "execution_count": 61,
   "id": "fbEkfrGpopRL",
   "metadata": {
    "colab": {
     "base_uri": "https://localhost:8080/",
     "height": 187
    },
    "id": "fbEkfrGpopRL",
    "outputId": "ca529c6d-73e3-4c21-94c1-b89d534064df"
   },
   "outputs": [
    {
     "ename": "TypeError",
     "evalue": "ignored",
     "output_type": "error",
     "traceback": [
      "\u001b[0;31m---------------------------------------------------------------------------\u001b[0m",
      "\u001b[0;31mTypeError\u001b[0m                                 Traceback (most recent call last)",
      "\u001b[0;32m<ipython-input-61-2f755f117ac9>\u001b[0m in \u001b[0;36m<module>\u001b[0;34m\u001b[0m\n\u001b[0;32m----> 1\u001b[0;31m \u001b[0mx\u001b[0m\u001b[0;34m[\u001b[0m\u001b[0;36m0\u001b[0m\u001b[0;34m]\u001b[0m\u001b[0;34m\u001b[0m\u001b[0;34m\u001b[0m\u001b[0m\n\u001b[0m",
      "\u001b[0;31mTypeError\u001b[0m: 'int' object is not subscriptable"
     ]
    }
   ],
   "source": [
    "x[0]"
   ]
  },
  {
   "cell_type": "markdown",
   "id": "d0a81940",
   "metadata": {
    "id": "d0a81940"
   },
   "source": [
    "### f-Strings\n",
    "\n",
    "Besides the traditional **strings** we've seen so far, we can use *f-strings* to represent variables inside a string:"
   ]
  },
  {
   "cell_type": "code",
   "execution_count": 64,
   "id": "3Hm31OrypFRr",
   "metadata": {
    "id": "3Hm31OrypFRr"
   },
   "outputs": [],
   "source": [
    "s = f'The value of x is {1+1}'"
   ]
  },
  {
   "cell_type": "code",
   "execution_count": 69,
   "id": "whpIirRhp7nu",
   "metadata": {
    "colab": {
     "base_uri": "https://localhost:8080/"
    },
    "id": "whpIirRhp7nu",
    "outputId": "94059359-b714-44e2-97b4-f860a8cdb6b2"
   },
   "outputs": [
    {
     "name": "stdout",
     "output_type": "stream",
     "text": [
      "O valor de x é 3\n"
     ]
    }
   ],
   "source": [
    "X = 3\n",
    "print('O valor de x é', X)"
   ]
  },
  {
   "cell_type": "code",
   "execution_count": 65,
   "id": "uglZd5sjpcKr",
   "metadata": {
    "colab": {
     "base_uri": "https://localhost:8080/",
     "height": 58
    },
    "id": "uglZd5sjpcKr",
    "outputId": "cb0925b8-4dca-4635-b2b1-b1084fb86bc0"
   },
   "outputs": [
    {
     "data": {
      "application/vnd.google.colaboratory.intrinsic+json": {
       "type": "string"
      },
      "text/plain": [
       "'The value of x is 2'"
      ]
     },
     "execution_count": 65,
     "metadata": {},
     "output_type": "execute_result"
    }
   ],
   "source": [
    "s"
   ]
  },
  {
   "cell_type": "code",
   "execution_count": 67,
   "id": "f28a3cc7",
   "metadata": {
    "colab": {
     "base_uri": "https://localhost:8080/"
    },
    "id": "f28a3cc7",
    "outputId": "8df2b84d-40f7-469f-9d55-5af4c453e945"
   },
   "outputs": [
    {
     "name": "stdout",
     "output_type": "stream",
     "text": [
      "The value of x is 11\n"
     ]
    }
   ],
   "source": [
    "x = 11\n",
    "print(f'The value of x is {x}')"
   ]
  },
  {
   "cell_type": "code",
   "execution_count": null,
   "id": "f6d70591",
   "metadata": {
    "id": "f6d70591"
   },
   "outputs": [],
   "source": [
    "meu_nome = 'Pedro'\n",
    "print(f'Meu nome é {meu_nome}')"
   ]
  },
  {
   "cell_type": "code",
   "execution_count": null,
   "id": "893a7fc4",
   "metadata": {
    "id": "893a7fc4"
   },
   "outputs": [],
   "source": [
    "meu_nome = [1,2,3]\n",
    "print(f'Meu nome é {meu_nome}')"
   ]
  },
  {
   "cell_type": "code",
   "execution_count": 70,
   "id": "jrrBp9bjqC6T",
   "metadata": {
    "id": "jrrBp9bjqC6T"
   },
   "outputs": [],
   "source": [
    "nome_aluno = 'Pedro'\n",
    "a = f'file_aluno_{nome_aluno}_grades.csv'"
   ]
  },
  {
   "cell_type": "code",
   "execution_count": 71,
   "id": "fmScIUyrqTJA",
   "metadata": {
    "colab": {
     "base_uri": "https://localhost:8080/",
     "height": 58
    },
    "id": "fmScIUyrqTJA",
    "outputId": "9cd8789e-2ab8-4651-b851-6038134d0f5f"
   },
   "outputs": [
    {
     "data": {
      "application/vnd.google.colaboratory.intrinsic+json": {
       "type": "string"
      },
      "text/plain": [
       "'file_aluno_Pedro_grades.csv'"
      ]
     },
     "execution_count": 71,
     "metadata": {},
     "output_type": "execute_result"
    }
   ],
   "source": [
    "a"
   ]
  },
  {
   "cell_type": "markdown",
   "id": "36b723e6",
   "metadata": {
    "id": "36b723e6"
   },
   "source": [
    "## Operators\n",
    "**Operators** are transformations defined between elements. When these elements are numbers (`int` or `float`), the operators are the traditional mathematical operations. Inside Python, operators can also be used between other types, but first let's see them operating in the traditional mathematical context:"
   ]
  },
  {
   "cell_type": "code",
   "execution_count": 74,
   "id": "f9c4643b",
   "metadata": {
    "colab": {
     "base_uri": "https://localhost:8080/"
    },
    "id": "f9c4643b",
    "outputId": "1263a339-1fc7-4d07-e2a7-c82065b9d4dd"
   },
   "outputs": [
    {
     "name": "stdout",
     "output_type": "stream",
     "text": [
      "4.0\n",
      "0\n",
      "4\n",
      "0.6666666666666666\n",
      "8\n",
      "1\n"
     ]
    }
   ],
   "source": [
    "soma = 2 + 2.\n",
    "sub = 2 - 2\n",
    "mult = 2 * 2\n",
    "div = 2 / 3\n",
    "exp = 2 ** 3\n",
    "mod = 7%3\n",
    "print(soma)\n",
    "print(sub)\n",
    "print(mult)\n",
    "print(div)\n",
    "print(exp)\n",
    "print(mod)"
   ]
  },
  {
   "cell_type": "markdown",
   "id": "f66678c9",
   "metadata": {
    "id": "f66678c9"
   },
   "source": [
    "We can also use the addition operator (`+`) between `strings` & the multiplication operator (`*`) between a `string` and an `int`:"
   ]
  },
  {
   "cell_type": "code",
   "execution_count": 75,
   "id": "dDXFk3tqrYAV",
   "metadata": {
    "colab": {
     "base_uri": "https://localhost:8080/"
    },
    "id": "dDXFk3tqrYAV",
    "outputId": "bdb64adc-2141-43b4-e842-34061c72df5a"
   },
   "outputs": [
    {
     "name": "stdout",
     "output_type": "stream",
     "text": [
      "Pedro Teche\n"
     ]
    }
   ],
   "source": [
    "soma = 'Pedro ' + 'Teche'\n",
    "print(soma)"
   ]
  },
  {
   "cell_type": "code",
   "execution_count": 79,
   "id": "1Ot-rkFkrgLz",
   "metadata": {
    "colab": {
     "base_uri": "https://localhost:8080/",
     "height": 204
    },
    "id": "1Ot-rkFkrgLz",
    "outputId": "38baeb14-b9db-4603-c42d-c58c496643b9"
   },
   "outputs": [
    {
     "ename": "TypeError",
     "evalue": "ignored",
     "output_type": "error",
     "traceback": [
      "\u001b[0;31m---------------------------------------------------------------------------\u001b[0m",
      "\u001b[0;31mTypeError\u001b[0m                                 Traceback (most recent call last)",
      "\u001b[0;32m<ipython-input-79-1c41c66e7010>\u001b[0m in \u001b[0;36m<module>\u001b[0;34m\u001b[0m\n\u001b[1;32m      1\u001b[0m \u001b[0ma\u001b[0m \u001b[0;34m=\u001b[0m \u001b[0;36m1\u001b[0m\u001b[0;34m\u001b[0m\u001b[0;34m\u001b[0m\u001b[0m\n\u001b[0;32m----> 2\u001b[0;31m \u001b[0mprint\u001b[0m\u001b[0;34m(\u001b[0m\u001b[0ma\u001b[0m \u001b[0;34m+\u001b[0m \u001b[0;34m'Teche'\u001b[0m\u001b[0;34m)\u001b[0m\u001b[0;34m\u001b[0m\u001b[0;34m\u001b[0m\u001b[0m\n\u001b[0m",
      "\u001b[0;31mTypeError\u001b[0m: unsupported operand type(s) for +: 'int' and 'str'"
     ]
    }
   ],
   "source": [
    "a = 1\n",
    "print(a + 'Teche')"
   ]
  },
  {
   "cell_type": "code",
   "execution_count": 83,
   "id": "c6c7bc28",
   "metadata": {
    "colab": {
     "base_uri": "https://localhost:8080/"
    },
    "id": "c6c7bc28",
    "outputId": "18eec698-5c79-4245-ff79-6c1734a0032d"
   },
   "outputs": [
    {
     "name": "stdout",
     "output_type": "stream",
     "text": [
      "Pedro Pedro Pedro \n"
     ]
    }
   ],
   "source": [
    "mult = 'Pedro ' * 3\n",
    "print(mult)"
   ]
  },
  {
   "cell_type": "code",
   "execution_count": 84,
   "id": "aadbc640",
   "metadata": {
    "colab": {
     "base_uri": "https://localhost:8080/"
    },
    "id": "aadbc640",
    "outputId": "c28cbb23-3184-4803-9fea-548a59881070"
   },
   "outputs": [
    {
     "data": {
      "text/plain": [
       "str"
      ]
     },
     "execution_count": 84,
     "metadata": {},
     "output_type": "execute_result"
    }
   ],
   "source": [
    "type(mult)"
   ]
  },
  {
   "cell_type": "code",
   "execution_count": 85,
   "id": "GhNvCO3hsI9W",
   "metadata": {
    "colab": {
     "base_uri": "https://localhost:8080/",
     "height": 58
    },
    "id": "GhNvCO3hsI9W",
    "outputId": "b8a6539e-be2b-4566-f947-e7a91189b3e1"
   },
   "outputs": [
    {
     "data": {
      "application/vnd.google.colaboratory.intrinsic+json": {
       "type": "string"
      },
      "text/plain": [
       "'Pedro Pedro Pedro '"
      ]
     },
     "execution_count": 85,
     "metadata": {},
     "output_type": "execute_result"
    }
   ],
   "source": [
    "mult"
   ]
  },
  {
   "cell_type": "markdown",
   "id": "ef537010",
   "metadata": {
    "id": "ef537010"
   },
   "source": [
    "Like lists, `strings` can also be indexed!"
   ]
  },
  {
   "cell_type": "code",
   "execution_count": 87,
   "id": "51c3982e",
   "metadata": {
    "colab": {
     "base_uri": "https://localhost:8080/",
     "height": 58
    },
    "id": "51c3982e",
    "outputId": "cfa458fa-a495-4fc2-ae3a-2c4531028ce7"
   },
   "outputs": [
    {
     "data": {
      "application/vnd.google.colaboratory.intrinsic+json": {
       "type": "string"
      },
      "text/plain": [
       "'P'"
      ]
     },
     "execution_count": 87,
     "metadata": {},
     "output_type": "execute_result"
    }
   ],
   "source": [
    "mult[0]"
   ]
  },
  {
   "cell_type": "markdown",
   "id": "290cdb7c",
   "metadata": {
    "id": "290cdb7c"
   },
   "source": [
    "`lists` can also be added (through the `+` operator) and multiplied (`*` operator) like strings: `lists + list` and `list * int`: "
   ]
  },
  {
   "cell_type": "code",
   "execution_count": 90,
   "id": "pMzLUJtIsY27",
   "metadata": {
    "colab": {
     "base_uri": "https://localhost:8080/"
    },
    "id": "pMzLUJtIsY27",
    "outputId": "c8adb424-31cd-407d-b933-c91f052e42d8"
   },
   "outputs": [
    {
     "name": "stdout",
     "output_type": "stream",
     "text": [
      "[1, 2, 3, 4, 7, 8, 9]\n"
     ]
    }
   ],
   "source": [
    "soma = [1, 2] + [3, 4] + [7, 8, 9]\n",
    "print(soma)"
   ]
  },
  {
   "cell_type": "code",
   "execution_count": 103,
   "id": "f339e71e",
   "metadata": {
    "colab": {
     "base_uri": "https://localhost:8080/"
    },
    "id": "f339e71e",
    "outputId": "d523dfd3-fd1b-4da6-a926-da6b21d82e80"
   },
   "outputs": [
    {
     "name": "stdout",
     "output_type": "stream",
     "text": [
      "[]\n"
     ]
    }
   ],
   "source": [
    "mult = [1, 2] * 0\n",
    "print(mult)"
   ]
  },
  {
   "cell_type": "markdown",
   "id": "7a61bdfb",
   "metadata": {
    "id": "7a61bdfb"
   },
   "source": [
    "When we use the operators on `boolean` types they behave like numbers! `True` becomes `1` and `False` becomes `0`"
   ]
  },
  {
   "cell_type": "code",
   "execution_count": 104,
   "id": "7c5b2c96",
   "metadata": {
    "colab": {
     "base_uri": "https://localhost:8080/"
    },
    "id": "7c5b2c96",
    "outputId": "5e9136bf-d9a5-4267-a7c6-aeefa432360f"
   },
   "outputs": [
    {
     "name": "stdout",
     "output_type": "stream",
     "text": [
      "2\n",
      "2\n",
      "0\n",
      "2.0\n"
     ]
    }
   ],
   "source": [
    "soma = True + True\n",
    "sub = True + True - False\n",
    "mult = True * True * True * True * False\n",
    "div = 2 / True\n",
    "print(soma)\n",
    "print(sub)\n",
    "print(mult)\n",
    "print(div)"
   ]
  },
  {
   "cell_type": "markdown",
   "id": "6d5be713",
   "metadata": {
    "id": "6d5be713"
   },
   "source": [
    "The last type of operators are the logical operators, which allow us to compare two different elements:"
   ]
  },
  {
   "cell_type": "code",
   "execution_count": 109,
   "id": "20211866",
   "metadata": {
    "colab": {
     "base_uri": "https://localhost:8080/"
    },
    "id": "20211866",
    "outputId": "dab370d3-f47e-4ea5-f952-1552db00b9b4"
   },
   "outputs": [
    {
     "data": {
      "text/plain": [
       "False"
      ]
     },
     "execution_count": 109,
     "metadata": {},
     "output_type": "execute_result"
    }
   ],
   "source": [
    "0.2000000000001 == 0.2"
   ]
  },
  {
   "cell_type": "code",
   "execution_count": 110,
   "id": "57c780c6",
   "metadata": {
    "colab": {
     "base_uri": "https://localhost:8080/"
    },
    "id": "57c780c6",
    "outputId": "ded4746e-fa6d-4c47-9c33-37c6dff9650b"
   },
   "outputs": [
    {
     "data": {
      "text/plain": [
       "False"
      ]
     },
     "execution_count": 110,
     "metadata": {},
     "output_type": "execute_result"
    }
   ],
   "source": [
    "'A' == 'a'"
   ]
  },
  {
   "cell_type": "code",
   "execution_count": 111,
   "id": "7GXYpsZBuCMU",
   "metadata": {
    "id": "7GXYpsZBuCMU"
   },
   "outputs": [],
   "source": [
    "a = 1\n",
    "A = 2"
   ]
  },
  {
   "cell_type": "code",
   "execution_count": 115,
   "id": "9jkuem13uESX",
   "metadata": {
    "colab": {
     "base_uri": "https://localhost:8080/"
    },
    "id": "9jkuem13uESX",
    "outputId": "8b401f2f-d3af-485e-881f-9660570b9e77"
   },
   "outputs": [
    {
     "data": {
      "text/plain": [
       "int"
      ]
     },
     "execution_count": 115,
     "metadata": {},
     "output_type": "execute_result"
    }
   ],
   "source": [
    "type(a)"
   ]
  },
  {
   "cell_type": "code",
   "execution_count": 118,
   "id": "0a2c449e",
   "metadata": {
    "colab": {
     "base_uri": "https://localhost:8080/"
    },
    "id": "0a2c449e",
    "outputId": "59972313-2f69-4da2-e9d5-cdedb52a4898"
   },
   "outputs": [
    {
     "data": {
      "text/plain": [
       "False"
      ]
     },
     "execution_count": 118,
     "metadata": {},
     "output_type": "execute_result"
    }
   ],
   "source": [
    "[1,2] > [1,2,3]"
   ]
  },
  {
   "cell_type": "code",
   "execution_count": 117,
   "id": "9451db06",
   "metadata": {
    "colab": {
     "base_uri": "https://localhost:8080/"
    },
    "id": "9451db06",
    "outputId": "03b960d3-ba3f-456d-accc-ce9a1a99eea8"
   },
   "outputs": [
    {
     "data": {
      "text/plain": [
       "True"
      ]
     },
     "execution_count": 117,
     "metadata": {},
     "output_type": "execute_result"
    }
   ],
   "source": [
    "1 < 3"
   ]
  },
  {
   "cell_type": "code",
   "execution_count": 119,
   "id": "0ONBRNjrueNd",
   "metadata": {
    "colab": {
     "base_uri": "https://localhost:8080/"
    },
    "id": "0ONBRNjrueNd",
    "outputId": "5db3fa54-ddb7-49c2-d034-e5942a69e65b"
   },
   "outputs": [
    {
     "data": {
      "text/plain": [
       "True"
      ]
     },
     "execution_count": 119,
     "metadata": {},
     "output_type": "execute_result"
    }
   ],
   "source": [
    "1 <= 1"
   ]
  },
  {
   "cell_type": "code",
   "execution_count": 120,
   "id": "7rz97HhsuglV",
   "metadata": {
    "colab": {
     "base_uri": "https://localhost:8080/"
    },
    "id": "7rz97HhsuglV",
    "outputId": "7e2701f3-44d3-4a98-88ef-7ab3ea23c174"
   },
   "outputs": [
    {
     "data": {
      "text/plain": [
       "True"
      ]
     },
     "execution_count": 120,
     "metadata": {},
     "output_type": "execute_result"
    }
   ],
   "source": [
    "1 >= 0"
   ]
  },
  {
   "cell_type": "code",
   "execution_count": null,
   "id": "dpU2WpcNuqZH",
   "metadata": {
    "id": "dpU2WpcNuqZH"
   },
   "outputs": [],
   "source": [
    "BACK AT 16H!!!"
   ]
  },
  {
   "cell_type": "code",
   "execution_count": 122,
   "id": "rxZdnI8ev2lF",
   "metadata": {
    "colab": {
     "base_uri": "https://localhost:8080/",
     "height": 58
    },
    "id": "rxZdnI8ev2lF",
    "outputId": "2491dfe8-cb81-405f-b68f-458a506490c4"
   },
   "outputs": [
    {
     "data": {
      "application/vnd.google.colaboratory.intrinsic+json": {
       "type": "string"
      },
      "text/plain": [
       "\"My name is John, I'm 36\""
      ]
     },
     "execution_count": 122,
     "metadata": {},
     "output_type": "execute_result"
    }
   ],
   "source": [
    "\"My name is {}, I'm {}\".format(\"John\",36)"
   ]
  },
  {
   "cell_type": "code",
   "execution_count": 121,
   "id": "wkcXQCvmv9W4",
   "metadata": {
    "colab": {
     "base_uri": "https://localhost:8080/",
     "height": 58
    },
    "id": "wkcXQCvmv9W4",
    "outputId": "3cb2d359-04b3-4522-bb15-d2754971e09c"
   },
   "outputs": [
    {
     "data": {
      "application/vnd.google.colaboratory.intrinsic+json": {
       "type": "string"
      },
      "text/plain": [
       "\"My name is John, I'm 36\""
      ]
     },
     "execution_count": 121,
     "metadata": {},
     "output_type": "execute_result"
    }
   ],
   "source": [
    "name = \"John\"\n",
    "age = 36\n",
    "f\"My name is {name}, I'm {age}\""
   ]
  },
  {
   "cell_type": "code",
   "execution_count": null,
   "id": "yjrrsNZDwYSH",
   "metadata": {
    "id": "yjrrsNZDwYSH"
   },
   "outputs": [],
   "source": []
  },
  {
   "cell_type": "markdown",
   "id": "364d1743",
   "metadata": {
    "id": "364d1743"
   },
   "source": [
    "## Control blocks\n",
    "\n",
    "Control blocks allow us to control: execute certain commands (*lines of code*) or repeating the execution of a few *lines of code*. Python has 3 fundamental control structures: **if** (conditional), **for** (loops) and **while** (conditional loops).\n",
    "\n",
    "### Conditional (if, elif, else)\n",
    "Conditionals allow us to control code execution based on different boolean evaluations:"
   ]
  },
  {
   "cell_type": "code",
   "execution_count": 126,
   "id": "fBGQCPg0xQ6M",
   "metadata": {
    "colab": {
     "base_uri": "https://localhost:8080/"
    },
    "id": "fBGQCPg0xQ6M",
    "outputId": "2206f835-2d68-4b1e-c1db-23df0950c64f"
   },
   "outputs": [
    {
     "data": {
      "text/plain": [
       "True"
      ]
     },
     "execution_count": 126,
     "metadata": {},
     "output_type": "execute_result"
    }
   ],
   "source": [
    "1 == 1"
   ]
  },
  {
   "cell_type": "code",
   "execution_count": 127,
   "id": "1a274ae1",
   "metadata": {
    "colab": {
     "base_uri": "https://localhost:8080/"
    },
    "id": "1a274ae1",
    "outputId": "9dcdbd7c-da5e-4259-e8eb-6945ce88f508"
   },
   "outputs": [
    {
     "name": "stdout",
     "output_type": "stream",
     "text": [
      "Wrong\n",
      "10\n"
     ]
    }
   ],
   "source": [
    "a = 1\n",
    "\n",
    "if 1 == 1:\n",
    "    print('Wrong')\n",
    "    a = 10\n",
    "\n",
    "print(a)"
   ]
  },
  {
   "cell_type": "code",
   "execution_count": 124,
   "id": "2a5766c1",
   "metadata": {
    "colab": {
     "base_uri": "https://localhost:8080/"
    },
    "id": "2a5766c1",
    "outputId": "f0d9e69a-e853-41ae-cf0d-9fa125f4cd50"
   },
   "outputs": [
    {
     "name": "stdout",
     "output_type": "stream",
     "text": [
      "11\n"
     ]
    }
   ],
   "source": [
    "print(x)"
   ]
  },
  {
   "cell_type": "code",
   "execution_count": 129,
   "id": "cc920e9f",
   "metadata": {
    "colab": {
     "base_uri": "https://localhost:8080/"
    },
    "id": "cc920e9f",
    "outputId": "5fe8ebaf-0e32-4fd4-8b5c-d7ad96ed09a0"
   },
   "outputs": [
    {
     "name": "stdout",
     "output_type": "stream",
     "text": [
      "Right\n"
     ]
    }
   ],
   "source": [
    "if 1 == 2:\n",
    "    print('Wrong')\n",
    "else:\n",
    "    print('Right')"
   ]
  },
  {
   "cell_type": "code",
   "execution_count": 130,
   "id": "a9f7a45c",
   "metadata": {
    "colab": {
     "base_uri": "https://localhost:8080/"
    },
    "id": "a9f7a45c",
    "outputId": "dccd22f2-29d2-44ad-cf8b-d0d5c76938f2"
   },
   "outputs": [
    {
     "name": "stdout",
     "output_type": "stream",
     "text": [
      "Errado\n"
     ]
    }
   ],
   "source": [
    "if 1 == 1:\n",
    "    print('Errado')\n",
    "else:\n",
    "    print('Certo')"
   ]
  },
  {
   "cell_type": "code",
   "execution_count": 132,
   "id": "2d020f4f",
   "metadata": {
    "colab": {
     "base_uri": "https://localhost:8080/"
    },
    "id": "2d020f4f",
    "outputId": "14bf07b9-b1ad-4c81-92cf-42e82a8ee243"
   },
   "outputs": [
    {
     "name": "stdout",
     "output_type": "stream",
     "text": [
      "X é 1\n"
     ]
    }
   ],
   "source": [
    "x = 1\n",
    "if x == 1:\n",
    "    print('X é 1')\n",
    "else:\n",
    "    print('X não é 1')"
   ]
  },
  {
   "cell_type": "code",
   "execution_count": 133,
   "id": "CeQjPUpHyM7w",
   "metadata": {
    "colab": {
     "base_uri": "https://localhost:8080/"
    },
    "id": "CeQjPUpHyM7w",
    "outputId": "f8be4b61-65e3-4275-c903-9f4342935686"
   },
   "outputs": [
    {
     "data": {
      "text/plain": [
       "str"
      ]
     },
     "execution_count": 133,
     "metadata": {},
     "output_type": "execute_result"
    }
   ],
   "source": [
    "x = 'ABC'\n",
    "type(x)"
   ]
  },
  {
   "cell_type": "code",
   "execution_count": 134,
   "id": "4TKFklb9yPXw",
   "metadata": {
    "colab": {
     "base_uri": "https://localhost:8080/"
    },
    "id": "4TKFklb9yPXw",
    "outputId": "8b955c91-826c-4fd0-93a4-d403dad2c852"
   },
   "outputs": [
    {
     "data": {
      "text/plain": [
       "False"
      ]
     },
     "execution_count": 134,
     "metadata": {},
     "output_type": "execute_result"
    }
   ],
   "source": [
    "type(x) == int"
   ]
  },
  {
   "cell_type": "code",
   "execution_count": 140,
   "id": "1f75f735",
   "metadata": {
    "colab": {
     "base_uri": "https://localhost:8080/"
    },
    "id": "1f75f735",
    "outputId": "3b5b3184-426d-4fc7-b3d4-eb245e27282c"
   },
   "outputs": [
    {
     "name": "stdout",
     "output_type": "stream",
     "text": [
      "2.2\n"
     ]
    }
   ],
   "source": [
    "x = 1.2\n",
    "if type(x) != str:\n",
    "    print(x + 1)\n",
    "else:\n",
    "    print(x)"
   ]
  },
  {
   "cell_type": "code",
   "execution_count": 138,
   "id": "e78f0716",
   "metadata": {
    "colab": {
     "base_uri": "https://localhost:8080/"
    },
    "id": "e78f0716",
    "outputId": "736fd98d-fc32-4e0a-91a3-4ccb0890a89f"
   },
   "outputs": [
    {
     "data": {
      "text/plain": [
       "False"
      ]
     },
     "execution_count": 138,
     "metadata": {},
     "output_type": "execute_result"
    }
   ],
   "source": [
    "type(x) != str"
   ]
  },
  {
   "cell_type": "markdown",
   "id": "162f8c7e",
   "metadata": {
    "id": "162f8c7e"
   },
   "source": [
    "The first conditions if the one that follows the `if`. Já o `else` nos permite executar certas linhas quando essa condição não é verdadeira.\n",
    "\n",
    "Podemos utilizar o `elif` (lido *else if*) para encadear diversas condições em série:"
   ]
  },
  {
   "cell_type": "code",
   "execution_count": 151,
   "id": "293995f2",
   "metadata": {
    "colab": {
     "base_uri": "https://localhost:8080/"
    },
    "id": "293995f2",
    "outputId": "a57db5aa-f7fa-4621-837c-aad12d05a139"
   },
   "outputs": [
    {
     "name": "stdout",
     "output_type": "stream",
     "text": [
      "Digite um nomepedro\n"
     ]
    }
   ],
   "source": [
    "x = input('Digite um nome')"
   ]
  },
  {
   "cell_type": "code",
   "execution_count": 152,
   "id": "bf60a469",
   "metadata": {
    "colab": {
     "base_uri": "https://localhost:8080/",
     "height": 58
    },
    "id": "bf60a469",
    "outputId": "5e74f9c8-bfd7-479a-a0ef-73f6af9087a2"
   },
   "outputs": [
    {
     "data": {
      "application/vnd.google.colaboratory.intrinsic+json": {
       "type": "string"
      },
      "text/plain": [
       "'pedro'"
      ]
     },
     "execution_count": 152,
     "metadata": {},
     "output_type": "execute_result"
    }
   ],
   "source": [
    "x"
   ]
  },
  {
   "cell_type": "code",
   "execution_count": 153,
   "id": "d8b1d5ef",
   "metadata": {
    "colab": {
     "base_uri": "https://localhost:8080/"
    },
    "id": "d8b1d5ef",
    "outputId": "e3376f92-6fbb-481a-ef68-7717cb0dc26e"
   },
   "outputs": [
    {
     "name": "stdout",
     "output_type": "stream",
     "text": [
      "Não sei...\n"
     ]
    }
   ],
   "source": [
    "if x == 'Pedro':\n",
    "    print('Me')\n",
    "elif x == 'Adriano':\n",
    "    print('Querido TA')\n",
    "elif x == 'Luis':\n",
    "    print('Aluno DAFT Mex!')\n",
    "else:\n",
    "    print('Não sei...')"
   ]
  },
  {
   "cell_type": "markdown",
   "id": "37ba055e",
   "metadata": {
    "id": "37ba055e"
   },
   "source": [
    "Além de condições simples, podemos construir condições mais complexas através dos operadores lógicos `and` e `or`:"
   ]
  },
  {
   "cell_type": "code",
   "execution_count": 161,
   "id": "58fee5a4",
   "metadata": {
    "colab": {
     "base_uri": "https://localhost:8080/"
    },
    "id": "58fee5a4",
    "outputId": "d964778a-5bbc-4843-edbd-99e9d4b6a57c"
   },
   "outputs": [
    {
     "data": {
      "text/plain": [
       "True"
      ]
     },
     "execution_count": 161,
     "metadata": {},
     "output_type": "execute_result"
    }
   ],
   "source": [
    "0 < 10 and 0 > -5"
   ]
  },
  {
   "cell_type": "code",
   "execution_count": 163,
   "id": "68c1f7cd",
   "metadata": {
    "colab": {
     "base_uri": "https://localhost:8080/"
    },
    "id": "68c1f7cd",
    "outputId": "c5fc91c5-4fe7-4820-b4c6-bf232ca63e13"
   },
   "outputs": [
    {
     "data": {
      "text/plain": [
       "True"
      ]
     },
     "execution_count": 163,
     "metadata": {},
     "output_type": "execute_result"
    }
   ],
   "source": [
    "1 < 7 or 6 < 5"
   ]
  },
  {
   "cell_type": "code",
   "execution_count": 164,
   "id": "f1475b42",
   "metadata": {
    "colab": {
     "base_uri": "https://localhost:8080/"
    },
    "id": "f1475b42",
    "outputId": "f01e926b-81d6-4315-a7ff-5cb59446d1a9"
   },
   "outputs": [
    {
     "data": {
      "text/plain": [
       "True"
      ]
     },
     "execution_count": 164,
     "metadata": {},
     "output_type": "execute_result"
    }
   ],
   "source": [
    "1 < 7 or 6 < 7"
   ]
  },
  {
   "cell_type": "code",
   "execution_count": 165,
   "id": "01c6d677",
   "metadata": {
    "colab": {
     "base_uri": "https://localhost:8080/"
    },
    "id": "01c6d677",
    "outputId": "4bb3bf67-b203-4294-afb0-17f433f6c9f1"
   },
   "outputs": [
    {
     "name": "stdout",
     "output_type": "stream",
     "text": [
      "X é maior que 19\n"
     ]
    }
   ],
   "source": [
    "x = 21\n",
    "if x >= 0 and x < 10:\n",
    "    print('X entre 0 e 9')\n",
    "elif x >= 10 and x < 20:\n",
    "    print('X entre 10 e 19')\n",
    "elif x < 0:\n",
    "    print('X menor que 0')\n",
    "else:\n",
    "    print('X é maior que 19')\n",
    "x=1 "
   ]
  },
  {
   "cell_type": "markdown",
   "id": "871ef7e9",
   "metadata": {
    "id": "871ef7e9"
   },
   "source": [
    "### Loop (for)\n",
    "\n",
    "Para executar um conjunto de linhas de forma repetida, podemos utilizar um **loop**. O loop é uma estrutura de controle que nos permite percorrer um **iterável** (por exemplo, uma lista) e executar um conjunto de linhas para cada elemento deste iterável."
   ]
  },
  {
   "cell_type": "code",
   "execution_count": 170,
   "id": "2vkb_o1u1X27",
   "metadata": {
    "colab": {
     "base_uri": "https://localhost:8080/"
    },
    "id": "2vkb_o1u1X27",
    "outputId": "236cde08-90d8-4b6d-aaf9-b16887bbef95"
   },
   "outputs": [
    {
     "name": "stdout",
     "output_type": "stream",
     "text": [
      "Hello for the 4th time!\n",
      "Hello for the 5th time!\n",
      "Hello for the 6th time!\n"
     ]
    }
   ],
   "source": [
    "a = [4,5,6]\n",
    "\n",
    "for i in a:\n",
    "  print(f'Hello for the {i}th time!')"
   ]
  },
  {
   "cell_type": "code",
   "execution_count": 171,
   "id": "4667c1af",
   "metadata": {
    "id": "4667c1af"
   },
   "outputs": [],
   "source": [
    "esta_lista = [3, 2, 4]"
   ]
  },
  {
   "cell_type": "code",
   "execution_count": 176,
   "id": "25bece14",
   "metadata": {
    "colab": {
     "base_uri": "https://localhost:8080/"
    },
    "id": "25bece14",
    "outputId": "e319b045-ba40-4053-d12d-ef19fbf2ffaa"
   },
   "outputs": [
    {
     "name": "stdout",
     "output_type": "stream",
     "text": [
      "9\n",
      "4\n",
      "16\n"
     ]
    }
   ],
   "source": [
    "for elemento in esta_lista:\n",
    "    elemento_quadrado = elemento ** 2\n",
    "    print(elemento_quadrado)"
   ]
  },
  {
   "cell_type": "code",
   "execution_count": 173,
   "id": "R5RIJODj2P2d",
   "metadata": {
    "colab": {
     "base_uri": "https://localhost:8080/"
    },
    "id": "R5RIJODj2P2d",
    "outputId": "a8399950-729c-4519-de25-8dd5fdf126e4"
   },
   "outputs": [
    {
     "name": "stdout",
     "output_type": "stream",
     "text": [
      "9\n"
     ]
    }
   ],
   "source": [
    "elemento = esta_lista[0]\n",
    "elemento_quadrado = elemento ** 2\n",
    "print(elemento_quadrado)"
   ]
  },
  {
   "cell_type": "code",
   "execution_count": 174,
   "id": "Akh09Efm2dOT",
   "metadata": {
    "colab": {
     "base_uri": "https://localhost:8080/"
    },
    "id": "Akh09Efm2dOT",
    "outputId": "8cf41fa1-1313-4d70-f360-0051802ca15c"
   },
   "outputs": [
    {
     "name": "stdout",
     "output_type": "stream",
     "text": [
      "4\n"
     ]
    }
   ],
   "source": [
    "elemento = esta_lista[1]\n",
    "elemento_quadrado = elemento ** 2\n",
    "print(elemento_quadrado)"
   ]
  },
  {
   "cell_type": "code",
   "execution_count": 175,
   "id": "be4c6cdb",
   "metadata": {
    "colab": {
     "base_uri": "https://localhost:8080/"
    },
    "id": "be4c6cdb",
    "outputId": "81648028-c0e8-4d4a-9669-1ad52d253114"
   },
   "outputs": [
    {
     "name": "stdout",
     "output_type": "stream",
     "text": [
      "16\n"
     ]
    }
   ],
   "source": [
    "elemento = esta_lista[2]\n",
    "elemento_quadrado = elemento ** 2\n",
    "print(elemento_quadrado)"
   ]
  },
  {
   "cell_type": "markdown",
   "id": "62ebc36b",
   "metadata": {
    "id": "62ebc36b"
   },
   "source": [
    "Podemos utilizar condicionais dentro de loops:"
   ]
  },
  {
   "cell_type": "code",
   "execution_count": 180,
   "id": "313b1b77",
   "metadata": {
    "id": "313b1b77"
   },
   "outputs": [],
   "source": [
    "outra_lista = [2, 3, 5, 'Pedro']"
   ]
  },
  {
   "cell_type": "code",
   "execution_count": 181,
   "id": "78a54b90",
   "metadata": {
    "colab": {
     "base_uri": "https://localhost:8080/",
     "height": 274
    },
    "id": "78a54b90",
    "outputId": "63d0a73e-635e-49f2-80d9-a4405e3cf61c"
   },
   "outputs": [
    {
     "name": "stdout",
     "output_type": "stream",
     "text": [
      "Elemento ao quadrado = 4\n",
      "Elemento ao quadrado = 9\n",
      "Elemento ao quadrado = 25\n"
     ]
    },
    {
     "ename": "TypeError",
     "evalue": "ignored",
     "output_type": "error",
     "traceback": [
      "\u001b[0;31m---------------------------------------------------------------------------\u001b[0m",
      "\u001b[0;31mTypeError\u001b[0m                                 Traceback (most recent call last)",
      "\u001b[0;32m<ipython-input-181-51c5d56b6d5a>\u001b[0m in \u001b[0;36m<module>\u001b[0;34m\u001b[0m\n\u001b[1;32m      6\u001b[0m         \u001b[0mprint\u001b[0m\u001b[0;34m(\u001b[0m\u001b[0;34mf'Elemento original = {elemento}'\u001b[0m\u001b[0;34m)\u001b[0m\u001b[0;34m\u001b[0m\u001b[0;34m\u001b[0m\u001b[0m\n\u001b[1;32m      7\u001b[0m     '''\n\u001b[0;32m----> 8\u001b[0;31m     \u001b[0mprint\u001b[0m\u001b[0;34m(\u001b[0m\u001b[0;34mf'Elemento ao quadrado = {elemento ** 2}'\u001b[0m\u001b[0;34m)\u001b[0m\u001b[0;34m\u001b[0m\u001b[0;34m\u001b[0m\u001b[0m\n\u001b[0m",
      "\u001b[0;31mTypeError\u001b[0m: unsupported operand type(s) for ** or pow(): 'str' and 'int'"
     ]
    }
   ],
   "source": [
    "for elemento in outra_lista:\n",
    "    if type(elemento) == int or type(elemento) == float:\n",
    "        print(f'Elemento ao quadrado = {elemento ** 2}')\n",
    "    else:\n",
    "        print(f'Elemento original = {elemento}')"
   ]
  },
  {
   "cell_type": "markdown",
   "id": "ee735a7f",
   "metadata": {
    "id": "ee735a7f"
   },
   "source": [
    "Por fim podemos utilizar loops dentro de loops (nesting):"
   ]
  },
  {
   "cell_type": "code",
   "execution_count": 182,
   "id": "ef4c8ce0",
   "metadata": {
    "id": "ef4c8ce0"
   },
   "outputs": [],
   "source": [
    "terceira_lista = [[1, 2, 3], [2, 3, 4], [4, 5, 6]]"
   ]
  },
  {
   "cell_type": "code",
   "execution_count": 188,
   "id": "2b822f4a",
   "metadata": {
    "colab": {
     "base_uri": "https://localhost:8080/"
    },
    "id": "2b822f4a",
    "outputId": "a56929ca-28f4-4e16-9767-e1189618925d"
   },
   "outputs": [
    {
     "name": "stdout",
     "output_type": "stream",
     "text": [
      "<class 'list'>\n",
      "<class 'list'>\n",
      "<class 'list'>\n"
     ]
    }
   ],
   "source": [
    "for elemento in terceira_lista:\n",
    "    print(type(elemento))"
   ]
  },
  {
   "cell_type": "code",
   "execution_count": 189,
   "id": "wytHe0AL30O6",
   "metadata": {
    "colab": {
     "base_uri": "https://localhost:8080/"
    },
    "id": "wytHe0AL30O6",
    "outputId": "68532448-c5fb-4cd0-a259-19e8e52537d9"
   },
   "outputs": [
    {
     "name": "stdout",
     "output_type": "stream",
     "text": [
      "1\n",
      "2\n",
      "3\n",
      "2\n",
      "3\n",
      "4\n",
      "4\n",
      "5\n",
      "6\n"
     ]
    }
   ],
   "source": [
    "for lista_inside in terceira_lista:\n",
    "  for elemento in lista_inside:\n",
    "    print(elemento)"
   ]
  },
  {
   "cell_type": "code",
   "execution_count": 194,
   "id": "4f17351a",
   "metadata": {
    "colab": {
     "base_uri": "https://localhost:8080/"
    },
    "id": "4f17351a",
    "outputId": "7f46e8d4-6ef2-434e-cbd2-9f8313d9afd0"
   },
   "outputs": [
    {
     "name": "stdout",
     "output_type": "stream",
     "text": [
      "Changing inner list\n",
      "1\n",
      "2\n",
      "3\n",
      "Finished with inner list!\n",
      "Changing inner list\n",
      "2\n",
      "3\n",
      "4\n",
      "Finished with inner list!\n",
      "Changing inner list\n",
      "4\n",
      "5\n",
      "6\n",
      "Finished with inner list!\n",
      "Finished everything!\n"
     ]
    }
   ],
   "source": [
    "for elemento in terceira_lista:\n",
    "  print('Changing inner list')\n",
    "\n",
    "  for outro_elemento in elemento:\n",
    "    print(outro_elemento)\n",
    "  print('Finished with inner list!')\n",
    "print('Finished everything!')"
   ]
  },
  {
   "cell_type": "code",
   "execution_count": 193,
   "id": "c474e5f1",
   "metadata": {
    "colab": {
     "base_uri": "https://localhost:8080/"
    },
    "id": "c474e5f1",
    "outputId": "28a8680d-fcf2-47f2-eadc-a57e39cabc70"
   },
   "outputs": [
    {
     "name": "stdout",
     "output_type": "stream",
     "text": [
      "[1, 2, 3]\n",
      "Elemento ao quadrado = 1\n",
      "Elemento ao quadrado = 4\n",
      "Elemento ao quadrado = 9\n",
      "[2, 3, 4]\n",
      "Elemento ao quadrado = 4\n",
      "Elemento ao quadrado = 9\n",
      "Elemento ao quadrado = 16\n",
      "[4, 5, 6]\n",
      "Elemento ao quadrado = 16\n",
      "Elemento ao quadrado = 25\n",
      "Elemento ao quadrado = 36\n"
     ]
    }
   ],
   "source": [
    "for lista in terceira_lista:\n",
    "    print(lista)\n",
    "    for elemento in lista:\n",
    "        print(f'Elemento ao quadrado = {elemento ** 2}')"
   ]
  },
  {
   "cell_type": "markdown",
   "id": "a1bba43a",
   "metadata": {
    "id": "a1bba43a"
   },
   "source": [
    "### Loop condicional (while)\n",
    "\n",
    "Para executar um conjunto de linhas de forma repetida, podemos utilizar um **loop**. O loop é uma estrutura de controle que nos permite percorrer um **iterável** (por exemplo, uma lista) e executar um conjunto de linhas para cada elemento deste iterável."
   ]
  },
  {
   "cell_type": "code",
   "execution_count": 196,
   "id": "783306ec",
   "metadata": {
    "colab": {
     "base_uri": "https://localhost:8080/"
    },
    "id": "783306ec",
    "outputId": "ad929393-7bc2-4200-bc77-51f930ba20dc"
   },
   "outputs": [
    {
     "name": "stdout",
     "output_type": "stream",
     "text": [
      "[1, 2, 3]\n",
      "1\n",
      "[2, 3, 4]\n",
      "2\n",
      "[4, 5, 6]\n",
      "3\n"
     ]
    }
   ],
   "source": [
    "x = 0\n",
    "for lista in terceira_lista:\n",
    "  print(lista)\n",
    "  x = x+1\n",
    "  print(x)"
   ]
  },
  {
   "cell_type": "code",
   "execution_count": null,
   "id": "3a2ae54a",
   "metadata": {
    "id": "3a2ae54a"
   },
   "outputs": [],
   "source": [
    "x = 1\n",
    "while x < 10:\n",
    "    x += 1\n",
    "    print(x)"
   ]
  },
  {
   "cell_type": "code",
   "execution_count": 200,
   "id": "9c559fac",
   "metadata": {
    "colab": {
     "base_uri": "https://localhost:8080/"
    },
    "id": "9c559fac",
    "outputId": "bc394240-9cca-4e07-ccb8-717528ecec3b"
   },
   "outputs": [
    {
     "name": "stdout",
     "output_type": "stream",
     "text": [
      "Digite meu nome: Luis\n",
      "Tente de novo...\n",
      "Digite meu nome: Sandra\n",
      "Tente de novo...\n",
      "Digite meu nome: Berenice\n",
      "Tente de novo...\n",
      "Digite meu nome: Pedro\n",
      "Parabéns!\n"
     ]
    }
   ],
   "source": [
    "absurdo = None\n",
    "\n",
    "while absurdo != 'Pedro':\n",
    "    absurdo = input('Digite meu nome: ')\n",
    "    if absurdo == 'Pedro':\n",
    "        print('Parabéns!')\n",
    "    else:\n",
    "        print('Tente de novo...')"
   ]
  },
  {
   "cell_type": "code",
   "execution_count": null,
   "id": "12d4fb78",
   "metadata": {
    "id": "12d4fb78"
   },
   "outputs": [],
   "source": [
    "absurdo = None\n",
    "type(absurdo)"
   ]
  },
  {
   "cell_type": "markdown",
   "id": "4c8b661c",
   "metadata": {
    "id": "4c8b661c"
   },
   "source": [
    "Além dos dois exemplos acima, uma construção muito comum em loops condicionais são os *loops infinitos* (`while True:`). Esta forma nos permite construir condições de quebra complexas dentro do loop através de condicionais normas e do comando `break`."
   ]
  },
  {
   "cell_type": "code",
   "execution_count": 201,
   "id": "744bc4c5",
   "metadata": {
    "colab": {
     "base_uri": "https://localhost:8080/"
    },
    "id": "744bc4c5",
    "outputId": "ad82a839-0f57-4425-cf7e-6046a4cf6bea"
   },
   "outputs": [
    {
     "name": "stdout",
     "output_type": "stream",
     "text": [
      "Digite um nome: lkjfljk\n",
      "Tente de novo...\n",
      "Digite um nome: dsakdjsa\n",
      "Tente de novo...\n",
      "Digite um nome: Adriano\n",
      "Parabéns!\n"
     ]
    }
   ],
   "source": [
    "while True:\n",
    "    nome = input('Digite um nome: ')\n",
    "    if nome == 'Adriano' or nome == 'Pedro':\n",
    "        print('Parabéns!')\n",
    "        break\n",
    "    else:\n",
    "        print('Tente de novo...')"
   ]
  },
  {
   "cell_type": "code",
   "execution_count": null,
   "id": "s7kbIMT_7qFm",
   "metadata": {
    "id": "s7kbIMT_7qFm"
   },
   "outputs": [],
   "source": [
    "a = [[1,2,3], [2,3,[4]], [1], 1]"
   ]
  },
  {
   "cell_type": "code",
   "execution_count": null,
   "id": "ACEiTV008COR",
   "metadata": {
    "id": "ACEiTV008COR"
   },
   "outputs": [],
   "source": []
  },
  {
   "cell_type": "markdown",
   "id": "90b88315",
   "metadata": {
    "id": "90b88315"
   },
   "source": [
    "# Desafio\n",
    "\n",
    "Conforme vimos anteriormente, listas podem conter listas. E as listas dentro de uma lista podem conter mais listas ainda... Esse tipo de estrutura é muito comum. O número de listas dentro de listas é chamado de **profundidade**. Por exemplo, a lista abaixo tem profundidade 2 (seu terceiro elemento é uma lista simples):"
   ]
  },
  {
   "cell_type": "code",
   "execution_count": null,
   "id": "30330f9d",
   "metadata": {
    "id": "30330f9d"
   },
   "outputs": [],
   "source": [
    "p2 = [1, 2, [1, 2, 3]]\n",
    "print(p2)"
   ]
  },
  {
   "cell_type": "markdown",
   "id": "9239a4a7",
   "metadata": {
    "id": "9239a4a7"
   },
   "source": [
    "Enquanto a próxima tem profundidade 3 (seu terceiro elemento é uma lista que também contém uma lista):"
   ]
  },
  {
   "cell_type": "code",
   "execution_count": null,
   "id": "78e0f290",
   "metadata": {
    "id": "78e0f290"
   },
   "outputs": [],
   "source": [
    "p3 = [1, 2, [1, 2, [1, 2]]]\n",
    "print(p3)"
   ]
  },
  {
   "cell_type": "code",
   "execution_count": null,
   "id": "a55e0628",
   "metadata": {
    "id": "a55e0628"
   },
   "outputs": [],
   "source": [
    "for i in range(5, 1, -1):\n",
    "    print(i)"
   ]
  },
  {
   "cell_type": "markdown",
   "id": "378ec4ca",
   "metadata": {
    "id": "378ec4ca"
   },
   "source": [
    "Uma tarefa comum é *desempacotar* uma lista: sair de `[1, [1, 2]]` para `[1, 1, 2]`.\n",
    "\n",
    "Utilizando o que aprendemos hoje, construa um algoritmo para desempacotar uma lista de profundidade arbitrária!"
   ]
  },
  {
   "cell_type": "code",
   "execution_count": null,
   "id": "bb473a98",
   "metadata": {
    "id": "bb473a98"
   },
   "outputs": [],
   "source": [
    "lista = [1,[1,2, [3, 4, 5]], [2,3, [4, 5, 6, [1]]], [1]]\n",
    "lista_chata = []\n",
    "for item in lista:\n",
    "    if type(item) != list:\n",
    "        lista_chata.append(item)\n",
    "    new_item = item\n",
    "    while type(new_item) == list:\n",
    "        current_item = new_item\n",
    "        for newer_item in new_item:\n",
    "            if type(newer_item) == list:\n",
    "                new_item = newer_item\n",
    "            else:\n",
    "                lista_chata.append(newer_item)\n",
    "        if current_item == new_item:\n",
    "            break\n",
    "            \n",
    "print(lista_chata)"
   ]
  },
  {
   "cell_type": "code",
   "execution_count": 204,
   "id": "a1bd8afe",
   "metadata": {
    "id": "a1bd8afe"
   },
   "outputs": [],
   "source": [
    "\n",
    "def my_print(x):\n",
    "  new_var = 1\n",
    "  print(x)"
   ]
  },
  {
   "cell_type": "code",
   "execution_count": 205,
   "id": "-lO0OnOqAc4C",
   "metadata": {
    "colab": {
     "base_uri": "https://localhost:8080/"
    },
    "id": "-lO0OnOqAc4C",
    "outputId": "f4eef1ea-75aa-44ea-da76-dd19acb81064"
   },
   "outputs": [
    {
     "name": "stdout",
     "output_type": "stream",
     "text": [
      "2\n"
     ]
    }
   ],
   "source": [
    "my_print(2)"
   ]
  },
  {
   "cell_type": "code",
   "execution_count": 207,
   "id": "G74OR_z3AeBv",
   "metadata": {
    "id": "G74OR_z3AeBv"
   },
   "outputs": [],
   "source": [
    "PI = 3.1415\n",
    "def my_sec_print(x):\n",
    "  print(y)"
   ]
  },
  {
   "cell_type": "code",
   "execution_count": 208,
   "id": "DqOJYHXbAk3x",
   "metadata": {
    "colab": {
     "base_uri": "https://localhost:8080/"
    },
    "id": "DqOJYHXbAk3x",
    "outputId": "78610421-03e5-471a-e6e4-5891a7b5638e"
   },
   "outputs": [
    {
     "name": "stdout",
     "output_type": "stream",
     "text": [
      "1\n"
     ]
    }
   ],
   "source": [
    "my_sec_print(20)"
   ]
  },
  {
   "cell_type": "code",
   "execution_count": 209,
   "id": "5iQ4MfOXA0BI",
   "metadata": {
    "id": "5iQ4MfOXA0BI"
   },
   "outputs": [],
   "source": [
    "def my_func(x):\n",
    "  new_var = 1\n",
    "  return new_var"
   ]
  },
  {
   "cell_type": "code",
   "execution_count": 210,
   "id": "YS0D0NfNBDx6",
   "metadata": {
    "id": "YS0D0NfNBDx6"
   },
   "outputs": [],
   "source": [
    "x = my_func()"
   ]
  },
  {
   "cell_type": "code",
   "execution_count": 212,
   "id": "mO95Fd1tBIKX",
   "metadata": {
    "colab": {
     "base_uri": "https://localhost:8080/"
    },
    "id": "mO95Fd1tBIKX",
    "outputId": "9bb03f84-f886-47d5-dace-50bb9370acfc"
   },
   "outputs": [
    {
     "data": {
      "text/plain": [
       "1"
      ]
     },
     "execution_count": 212,
     "metadata": {},
     "output_type": "execute_result"
    }
   ],
   "source": [
    "my_func()"
   ]
  },
  {
   "cell_type": "code",
   "execution_count": null,
   "id": "YTff-FjVBIuO",
   "metadata": {
    "id": "YTff-FjVBIuO"
   },
   "outputs": [],
   "source": [
    "PI = 3.1415\n",
    "A_DIFFERENT_CONSTANT = 2\n",
    "def circle_area(r):\n",
    "  return r ** 2 * PI"
   ]
  },
  {
   "cell_type": "code",
   "execution_count": 214,
   "id": "cAqXwmvvBxz_",
   "metadata": {
    "colab": {
     "base_uri": "https://localhost:8080/",
     "height": 343
    },
    "id": "cAqXwmvvBxz_",
    "outputId": "e8ee66cf-8416-4774-9a2e-0f011f61c045"
   },
   "outputs": [
    {
     "ename": "UnboundLocalError",
     "evalue": "ignored",
     "output_type": "error",
     "traceback": [
      "\u001b[0;31m---------------------------------------------------------------------------\u001b[0m",
      "\u001b[0;31mUnboundLocalError\u001b[0m                         Traceback (most recent call last)",
      "\u001b[0;32m<ipython-input-214-31682c2cd2ed>\u001b[0m in \u001b[0;36m<module>\u001b[0;34m\u001b[0m\n\u001b[1;32m      6\u001b[0m \u001b[0;34m\u001b[0m\u001b[0m\n\u001b[1;32m      7\u001b[0m \u001b[0;34m\u001b[0m\u001b[0m\n\u001b[0;32m----> 8\u001b[0;31m \u001b[0mnew_func\u001b[0m\u001b[0;34m(\u001b[0m\u001b[0;34m)\u001b[0m\u001b[0;34m\u001b[0m\u001b[0;34m\u001b[0m\u001b[0m\n\u001b[0m",
      "\u001b[0;32m<ipython-input-214-31682c2cd2ed>\u001b[0m in \u001b[0;36mnew_func\u001b[0;34m()\u001b[0m\n\u001b[1;32m      2\u001b[0m \u001b[0;34m\u001b[0m\u001b[0m\n\u001b[1;32m      3\u001b[0m \u001b[0;32mdef\u001b[0m \u001b[0mnew_func\u001b[0m\u001b[0;34m(\u001b[0m\u001b[0;34m)\u001b[0m\u001b[0;34m:\u001b[0m\u001b[0;34m\u001b[0m\u001b[0;34m\u001b[0m\u001b[0m\n\u001b[0;32m----> 4\u001b[0;31m   \u001b[0mprint\u001b[0m\u001b[0;34m(\u001b[0m\u001b[0ma\u001b[0m\u001b[0;34m)\u001b[0m\u001b[0;34m\u001b[0m\u001b[0;34m\u001b[0m\u001b[0m\n\u001b[0m\u001b[1;32m      5\u001b[0m   \u001b[0ma\u001b[0m \u001b[0;34m=\u001b[0m \u001b[0;36m10\u001b[0m\u001b[0;34m\u001b[0m\u001b[0;34m\u001b[0m\u001b[0m\n\u001b[1;32m      6\u001b[0m \u001b[0;34m\u001b[0m\u001b[0m\n",
      "\u001b[0;31mUnboundLocalError\u001b[0m: local variable 'a' referenced before assignment"
     ]
    }
   ],
   "source": [
    "a = 5\n",
    "\n",
    "def mult(x):\n",
    "  a = 2 * 4\n",
    "\n",
    "def sub(x):\n",
    "  print(a - 1)"
   ]
  },
  {
   "cell_type": "code",
   "execution_count": 217,
   "id": "6zmtvGSZCF7b",
   "metadata": {
    "id": "6zmtvGSZCF7b"
   },
   "outputs": [],
   "source": [
    "def mult(x):\n",
    "  a = x * 2\n",
    "  return a\n",
    "\n",
    "def sub(x):\n",
    "  a = x - 1\n",
    "  return a"
   ]
  },
  {
   "cell_type": "code",
   "execution_count": 216,
   "id": "Aks3VXoCC09j",
   "metadata": {
    "colab": {
     "base_uri": "https://localhost:8080/"
    },
    "id": "Aks3VXoCC09j",
    "outputId": "c19d36c5-974c-4a4b-c90b-b6c40d74f842"
   },
   "outputs": [
    {
     "name": "stdout",
     "output_type": "stream",
     "text": [
      "3\n"
     ]
    }
   ],
   "source": [
    "a = mult(2)\n",
    "print(sub(a))"
   ]
  },
  {
   "cell_type": "code",
   "execution_count": 218,
   "id": "Zjj3QBCvC4PN",
   "metadata": {
    "id": "Zjj3QBCvC4PN"
   },
   "outputs": [],
   "source": [
    "x = 0\n",
    "def unpack_list():\n",
    "  x += 1\n",
    "  print(x)"
   ]
  },
  {
   "cell_type": "code",
   "execution_count": 222,
   "id": "FxLZKKk4D_wg",
   "metadata": {
    "id": "FxLZKKk4D_wg"
   },
   "outputs": [],
   "source": [
    "a = unpack_list([1,2])"
   ]
  },
  {
   "cell_type": "code",
   "execution_count": 224,
   "id": "Y45XsXGHEE3f",
   "metadata": {
    "colab": {
     "base_uri": "https://localhost:8080/"
    },
    "id": "Y45XsXGHEE3f",
    "outputId": "c3135de3-44e7-4527-95d7-eee158b8748f"
   },
   "outputs": [
    {
     "data": {
      "text/plain": [
       "1"
      ]
     },
     "execution_count": 224,
     "metadata": {},
     "output_type": "execute_result"
    }
   ],
   "source": [
    "a[0]"
   ]
  },
  {
   "cell_type": "code",
   "execution_count": 221,
   "id": "2qytb5TDEGUk",
   "metadata": {
    "colab": {
     "base_uri": "https://localhost:8080/"
    },
    "id": "2qytb5TDEGUk",
    "outputId": "6ce092fd-5f65-4e8e-f130-2e6ebcac2f81"
   },
   "outputs": [
    {
     "data": {
      "text/plain": [
       "2"
      ]
     },
     "execution_count": 221,
     "metadata": {},
     "output_type": "execute_result"
    }
   ],
   "source": [
    "b"
   ]
  },
  {
   "cell_type": "code",
   "execution_count": 225,
   "id": "Xt3zYJE1EHel",
   "metadata": {
    "colab": {
     "base_uri": "https://localhost:8080/"
    },
    "id": "Xt3zYJE1EHel",
    "outputId": "d2e7b12b-e94a-4700-f2d1-f576e8139810"
   },
   "outputs": [
    {
     "name": "stdout",
     "output_type": "stream",
     "text": [
      "a\n",
      "a\n",
      "a\n"
     ]
    }
   ],
   "source": [
    "a = [1, 2, 3]\n",
    "for element in a:\n",
    "  print('a')"
   ]
  },
  {
   "cell_type": "code",
   "execution_count": null,
   "id": "3tdTCLwyFTdg",
   "metadata": {
    "id": "3tdTCLwyFTdg"
   },
   "outputs": [],
   "source": []
  }
 ],
 "metadata": {
  "colab": {
   "provenance": []
  },
  "hide_input": false,
  "kernelspec": {
   "display_name": "Python 3 (ipykernel)",
   "language": "python",
   "name": "python3"
  },
  "language_info": {
   "codemirror_mode": {
    "name": "ipython",
    "version": 3
   },
   "file_extension": ".py",
   "mimetype": "text/x-python",
   "name": "python",
   "nbconvert_exporter": "python",
   "pygments_lexer": "ipython3",
   "version": "3.9.11"
  },
  "toc": {
   "base_numbering": 1,
   "nav_menu": {},
   "number_sections": true,
   "sideBar": true,
   "skip_h1_title": false,
   "title_cell": "Table of Contents",
   "title_sidebar": "Contents",
   "toc_cell": true,
   "toc_position": {},
   "toc_section_display": true,
   "toc_window_display": true
  },
  "vscode": {
   "interpreter": {
    "hash": "014f4a4a5af8f0104b12c029e500f4146d6d785e8cf714d2a35b7a9514230cd3"
   }
  }
 },
 "nbformat": 4,
 "nbformat_minor": 5
}
